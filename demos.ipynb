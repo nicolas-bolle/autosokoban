{
 "cells": [
  {
   "cell_type": "code",
   "execution_count": 2,
   "metadata": {},
   "outputs": [
    {
     "name": "stdout",
     "output_type": "stream",
     "text": [
      "Python 3.12.6\n"
     ]
    }
   ],
   "source": [
    "# need python 3.12+ for typing\n",
    "!python -V"
   ]
  },
  {
   "cell_type": "code",
   "execution_count": 3,
   "metadata": {},
   "outputs": [],
   "source": [
    "%load_ext autoreload\n",
    "%autoreload 2"
   ]
  },
  {
   "cell_type": "code",
   "execution_count": 1,
   "metadata": {},
   "outputs": [],
   "source": [
    "from src.sokoban_solver import (\n",
    "    SokobanEdge,\n",
    "    SokobanNode,\n",
    "    Solver,\n",
    "    BFSQueue,\n",
    "    PriorityQueue,\n",
    ")\n",
    "from src.heuristics import (\n",
    "    f_priority_length,\n",
    "    f_priority_l1_naive,\n",
    "    f_priority_l1_symmetric_naive,\n",
    "    f_priority_l1_matching,\n",
    "    f_priority_dijkstra,\n",
    "    f_priority_dijkstra_stuck_basic,\n",
    "    f_priority_dlsb,\n",
    ")\n",
    "from boards.utilities import load_json_to_dict"
   ]
  },
  {
   "cell_type": "markdown",
   "metadata": {},
   "source": [
    "**Generator to do**\n",
    "- Learn the papers\n",
    "    - https://citeseerx.ist.psu.edu/document?repid=rep1&type=pdf&doi=af6c8e280946f019c7f632c8281a35ddf1fdc9b0\n",
    "    - https://ianparberry.com/techreports/LARC-2011-01.pdf\n",
    "    - https://ieee-cog.org/2020/papers/paper_44.pdf\n",
    "    - XSokoban test suite: https://sokoban-solver-statistics.sourceforge.io/statistics/XSokoban/XSokoban.html\n",
    "    - Also do a bit more literature search\n",
    "- Start implementing techniques\n",
    "\n",
    "**Solver to do**\n",
    "- Implement more heuristics\n",
    "    - Box pushing heuristic:\n",
    "        - Upgrade of Dijkstra\n",
    "        - Solving subpuzzles with just one box\n",
    "        - Chained heuristics: solve subpuzzles with Dijkstra\n",
    "        - **Also, this might be *really* slow: we have to consider each box/goal matchup to then do the linprog to find the smallest number of pushes. So that's n^2 subpuzzles to solve! It's probably best to just come up with pruning conditions based on how a box can be pushed (ex. if it's stuck in a dead-end hallway/component).**\n",
    "        - Stuck box handling\n",
    "            - Start with a stuck boxes pruning heuristic\n",
    "            - Consider stuck-on-goal boxes to be equivalent to walls\n",
    "            - Implement things reasonably flexibly: so if the notion of stuck (ex. basic vs \"conditionally stuck but actually stuck\") changes, it can still work\n",
    "        - Include timeouts\n",
    "            - How to handle these?\n",
    "            - Fall back to Dijkstra?\n",
    "            - Tuple priority with the first entry indicating timeout?\n",
    "            - Option to repeat with longer timeouts on subsequent runs?\n",
    "            - Tagging queue entries with solver objects so I can easily pick up heuristic evals once I exhaust more clearly viable paths?\n",
    "            - **A general framework that manages priority calculation priorities (for multiple possible heuristics)? Maybe a secondary queue for that?**\n",
    "    - Brainstorm more ideas\n",
    "        - I should do more puzzles by hand to figure out next gen heuristics\n",
    "- Ponder misc ideas\n",
    "    - What would it look like to work neural nets into the problem? As the sole heuristic? For blending heuristics? For a CNN? What's the right learning framework? Reinforcement?\n",
    "    - Splitting into sub-puzzles?\n",
    "\n",
    "**Misc to do**\n",
    "- Learn python environments and set up requirements.txt\n",
    "- Configure GitHub unit tests?"
   ]
  },
  {
   "cell_type": "markdown",
   "metadata": {},
   "source": [
    "## Bottom"
   ]
  },
  {
   "cell_type": "code",
   "execution_count": null,
   "metadata": {},
   "outputs": [],
   "source": []
  }
 ],
 "metadata": {
  "kernelspec": {
   "display_name": "Python 3 (ipykernel)",
   "language": "python",
   "name": "python3"
  },
  "language_info": {
   "codemirror_mode": {
    "name": "ipython",
    "version": 3
   },
   "file_extension": ".py",
   "mimetype": "text/x-python",
   "name": "python",
   "nbconvert_exporter": "python",
   "pygments_lexer": "ipython3",
   "version": "3.12.6"
  }
 },
 "nbformat": 4,
 "nbformat_minor": 4
}
