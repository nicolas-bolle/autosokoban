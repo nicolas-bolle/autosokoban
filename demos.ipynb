{
 "cells": [
  {
   "cell_type": "code",
   "execution_count": 1,
   "metadata": {},
   "outputs": [
    {
     "name": "stdout",
     "output_type": "stream",
     "text": [
      "Python 3.12.6\n"
     ]
    }
   ],
   "source": [
    "# need python 3.12+ for typing\n",
    "!python -V"
   ]
  },
  {
   "cell_type": "code",
   "execution_count": 2,
   "metadata": {},
   "outputs": [],
   "source": [
    "%load_ext autoreload\n",
    "%autoreload 2"
   ]
  },
  {
   "cell_type": "code",
   "execution_count": 3,
   "metadata": {},
   "outputs": [],
   "source": [
    "from src.sokoban_solver import SokobanEdge, SokobanNode, SokobanSolver\n",
    "from boards.utilities import load_json_to_dict"
   ]
  },
  {
   "cell_type": "markdown",
   "metadata": {},
   "source": [
    "**Solver to do**\n",
    "- Get the solver working on the \"11\" problem\n",
    "    - \"Working\" = \"In well under 1 second\"\n",
    "    - Maybe start with a few other demo puzzles\n",
    "    - Might want the ability to create heuristics? Like by subclassing to specify how the queue is implemented.\n",
    "    - So replace the queue list with a generic queue object (priority queue?...) that different solver implement differently.\n",
    "    - Ex. heuristic: past a depth of len(board.boxes)?\n",
    "    - See import queue; queue.PriorityQueue\n",
    "- Create unit tests (runs solver on some test problems)\n",
    "\n",
    "**Generator to do**\n",
    "- Learn the papers\n",
    "    - https://citeseerx.ist.psu.edu/document?repid=rep1&type=pdf&doi=af6c8e280946f019c7f632c8281a35ddf1fdc9b0\n",
    "    - https://ianparberry.com/techreports/LARC-2011-01.pdf\n",
    "    - Also do a bit more literature search\n",
    "- Start implementing techniques"
   ]
  },
  {
   "cell_type": "markdown",
   "metadata": {},
   "source": [
    "## Basic demos"
   ]
  },
  {
   "cell_type": "code",
   "execution_count": 4,
   "metadata": {},
   "outputs": [
    {
     "ename": "NameError",
     "evalue": "name 'node1' is not defined",
     "output_type": "error",
     "traceback": [
      "\u001b[1;31m---------------------------------------------------------------------------\u001b[0m",
      "\u001b[1;31mNameError\u001b[0m                                 Traceback (most recent call last)",
      "Cell \u001b[1;32mIn[4], line 10\u001b[0m\n\u001b[0;32m      7\u001b[0m player \u001b[38;5;241m=\u001b[39m d[\u001b[38;5;124m'\u001b[39m\u001b[38;5;124mplayer\u001b[39m\u001b[38;5;124m'\u001b[39m]\n\u001b[0;32m      9\u001b[0m node \u001b[38;5;241m=\u001b[39m SokobanNode(airs, boxes, goals, player)\n\u001b[1;32m---> 10\u001b[0m \u001b[38;5;28mprint\u001b[39m(\u001b[38;5;124m'\u001b[39m\u001b[38;5;124mPlayer component: \u001b[39m\u001b[38;5;124m'\u001b[39m, \u001b[43mnode1\u001b[49m\u001b[38;5;241m.\u001b[39mplayer_component)\n\u001b[0;32m     11\u001b[0m \u001b[38;5;28mprint\u001b[39m(\u001b[38;5;124m'\u001b[39m\u001b[38;5;124mAvaiable pushes: \u001b[39m\u001b[38;5;124m'\u001b[39m, node1\u001b[38;5;241m.\u001b[39medges)\n\u001b[0;32m     12\u001b[0m \u001b[38;5;28mprint\u001b[39m(\u001b[38;5;124m'\u001b[39m\u001b[38;5;124mIs solved?: \u001b[39m\u001b[38;5;124m'\u001b[39m, node1\u001b[38;5;241m.\u001b[39msolved)\n",
      "\u001b[1;31mNameError\u001b[0m: name 'node1' is not defined"
     ]
    }
   ],
   "source": [
    "filename = './boards/board_trivial.json'\n",
    "d = load_json_to_dict(filename)\n",
    "\n",
    "airs = d['airs']\n",
    "boxes = d['boxes']\n",
    "goals = d['goals']\n",
    "player = d['player']\n",
    "\n",
    "node = SokobanNode(airs, boxes, goals, player)\n",
    "print('Player component: ', node1.player_component)\n",
    "print('Avaiable pushes: ', node1.edges)\n",
    "print('Is solved?: ', node1.solved)\n",
    "\n",
    "print(node1)"
   ]
  },
  {
   "cell_type": "code",
   "execution_count": null,
   "metadata": {},
   "outputs": [],
   "source": [
    "filename = './boards/board_simple1.json'\n",
    "d = load_json_to_dict(filename)\n",
    "\n",
    "airs = d['airs']\n",
    "boxes = d['boxes']\n",
    "goals = d['goals']\n",
    "player = d['player']\n",
    "\n",
    "node1 = SokobanNode(airs, boxes, goals, player)\n",
    "print('Player component: ', node1.player_component)\n",
    "print('Avaiable pushes: ', node1.edges)\n",
    "print('Is solved?: ', node1.solved)\n",
    "\n",
    "print(node1)"
   ]
  },
  {
   "cell_type": "code",
   "execution_count": null,
   "metadata": {},
   "outputs": [],
   "source": [
    "filename = './boards/board_simple2.json'\n",
    "d = load_json_to_dict(filename)\n",
    "\n",
    "airs = d['airs']\n",
    "boxes = d['boxes']\n",
    "goals = d['goals']\n",
    "player = d['player']\n",
    "\n",
    "node2 = SokobanNode(airs, boxes, goals, player)\n",
    "print('Player component: ', node2.player_component)\n",
    "print('Avaiable pushes: ', node2.edges)\n",
    "print('Is solved?: ', node2.solved)\n",
    "\n",
    "print(node2)"
   ]
  },
  {
   "cell_type": "code",
   "execution_count": null,
   "metadata": {},
   "outputs": [],
   "source": [
    "filename = './boards/board_simple3.json'\n",
    "d = load_json_to_dict(filename)\n",
    "\n",
    "airs = d['airs']\n",
    "boxes = d['boxes']\n",
    "goals = d['goals']\n",
    "player = d['player']\n",
    "\n",
    "node3 = SokobanNode(airs, boxes, goals, player)\n",
    "print('Player component: ', node3.player_component)\n",
    "print('Avaiable pushes: ', node3.edges)\n",
    "print('Is solved?: ', node3.solved)\n",
    "\n",
    "print(node3)"
   ]
  },
  {
   "cell_type": "code",
   "execution_count": null,
   "metadata": {},
   "outputs": [],
   "source": [
    "node1 == node2, node1 == node3, node2 == node3"
   ]
  },
  {
   "cell_type": "code",
   "execution_count": null,
   "metadata": {},
   "outputs": [],
   "source": [
    "solver = SokobanSolver(node)\n",
    "solver.solve()\n",
    "print(solver.solution)"
   ]
  },
  {
   "cell_type": "code",
   "execution_count": null,
   "metadata": {},
   "outputs": [],
   "source": [
    "solver = SokobanSolver(node1)\n",
    "solver.solve()\n",
    "print(solver.solution)"
   ]
  },
  {
   "cell_type": "code",
   "execution_count": null,
   "metadata": {},
   "outputs": [],
   "source": [
    "solver = SokobanSolver(node2)\n",
    "solver.solve()\n",
    "print(solver.solution)"
   ]
  },
  {
   "cell_type": "code",
   "execution_count": null,
   "metadata": {},
   "outputs": [],
   "source": [
    "solver = SokobanSolver(node3)\n",
    "solver.solve()\n",
    "print(solver.solution)"
   ]
  },
  {
   "cell_type": "markdown",
   "metadata": {},
   "source": [
    "## Real puzzles"
   ]
  },
  {
   "cell_type": "markdown",
   "metadata": {},
   "source": [
    "https://linusakesson.net/games/autosokoban/?v=1&seed=1565730199&level=1"
   ]
  },
  {
   "cell_type": "code",
   "execution_count": null,
   "metadata": {},
   "outputs": [],
   "source": [
    "filename = './boards/board_v=1&seed=1565730199&level=1.json'\n",
    "d = load_json_to_dict(filename)\n",
    "\n",
    "airs = d['airs']\n",
    "boxes = d['boxes']\n",
    "goals = d['goals']\n",
    "player = d['player']\n",
    "\n",
    "node = SokobanNode(airs, boxes, goals, player)\n",
    "print(node)"
   ]
  },
  {
   "cell_type": "code",
   "execution_count": null,
   "metadata": {},
   "outputs": [],
   "source": [
    "solver = SokobanSolver(node)\n",
    "solver.solve()\n",
    "print(solver.solution)"
   ]
  },
  {
   "cell_type": "code",
   "execution_count": null,
   "metadata": {},
   "outputs": [],
   "source": []
  },
  {
   "cell_type": "markdown",
   "metadata": {},
   "source": [
    "https://linusakesson.net/games/autosokoban/?v=1&seed=1565730199&level=11"
   ]
  },
  {
   "cell_type": "code",
   "execution_count": 5,
   "metadata": {},
   "outputs": [
    {
     "name": "stdout",
     "output_type": "stream",
     "text": [
      "█ █ █ █ █ █ █ █ █ █ █ █\n",
      "█ █ █ █ █ █ █ █ █ █ █ █\n",
      "█ █ █ █ █   █ █ █ █ █ █\n",
      "█ █ █   ·         █ █ █\n",
      "█ █ █   █   □ · □   █ █\n",
      "█ █ · □ □   ■ ·     █ █\n",
      "█ █     □   █ █ █ █ █ █\n",
      "█ █   █ █   █ █ █ █ █ █\n",
      "█ █ · ○     █ █ █ █ █ █\n",
      "█ █ █ █ █ █ █ █ █ █ █ █\n",
      "█ █ █ █ █ █ █ █ █ █ █ █\n"
     ]
    }
   ],
   "source": [
    "filename = './boards/board_v=1&seed=1565730199&level=11.json'\n",
    "d = load_json_to_dict(filename)\n",
    "\n",
    "airs = d['airs']\n",
    "boxes = d['boxes']\n",
    "goals = d['goals']\n",
    "player = d['player']\n",
    "\n",
    "node = SokobanNode(airs, boxes, goals, player)\n",
    "print(node)"
   ]
  },
  {
   "cell_type": "code",
   "execution_count": 6,
   "metadata": {},
   "outputs": [
    {
     "data": {
      "text/plain": [
       "301"
      ]
     },
     "execution_count": 6,
     "metadata": {},
     "output_type": "execute_result"
    }
   ],
   "source": [
    "# unable to find the solution in reasonable time\n",
    "solver = SokobanSolver(node)\n",
    "solver.solve(max_seconds=1)"
   ]
  },
  {
   "cell_type": "code",
   "execution_count": 7,
   "metadata": {},
   "outputs": [
    {
     "data": {
      "text/plain": [
       "4926"
      ]
     },
     "execution_count": 7,
     "metadata": {},
     "output_type": "execute_result"
    }
   ],
   "source": [
    "solver.n_iters_overall"
   ]
  },
  {
   "cell_type": "code",
   "execution_count": 8,
   "metadata": {},
   "outputs": [
    {
     "data": {
      "text/plain": [
       "1.0002968311309814"
      ]
     },
     "execution_count": 8,
     "metadata": {},
     "output_type": "execute_result"
    }
   ],
   "source": [
    "solver.n_seconds_overall"
   ]
  },
  {
   "cell_type": "markdown",
   "metadata": {},
   "source": [
    "## Bottom"
   ]
  },
  {
   "cell_type": "code",
   "execution_count": null,
   "metadata": {},
   "outputs": [],
   "source": [
    "solver.step()\n",
    "print(len(solver.queue))\n",
    "print()\n",
    "print(solver.queue.get_str_end_nodes())"
   ]
  },
  {
   "cell_type": "code",
   "execution_count": null,
   "metadata": {},
   "outputs": [],
   "source": []
  }
 ],
 "metadata": {
  "kernelspec": {
   "display_name": "Python 3 (ipykernel)",
   "language": "python",
   "name": "python3"
  },
  "language_info": {
   "codemirror_mode": {
    "name": "ipython",
    "version": 3
   },
   "file_extension": ".py",
   "mimetype": "text/x-python",
   "name": "python",
   "nbconvert_exporter": "python",
   "pygments_lexer": "ipython3",
   "version": "3.12.6"
  }
 },
 "nbformat": 4,
 "nbformat_minor": 4
}
