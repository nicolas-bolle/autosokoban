{
 "cells": [
  {
   "cell_type": "code",
   "execution_count": 1,
   "metadata": {},
   "outputs": [
    {
     "name": "stdout",
     "output_type": "stream",
     "text": [
      "Python 3.12.6\n"
     ]
    }
   ],
   "source": [
    "# need python 3.12+ for typing\n",
    "!python -V"
   ]
  },
  {
   "cell_type": "code",
   "execution_count": 2,
   "metadata": {},
   "outputs": [],
   "source": [
    "%load_ext autoreload\n",
    "%autoreload 2"
   ]
  },
  {
   "cell_type": "code",
   "execution_count": 341,
   "metadata": {},
   "outputs": [],
   "source": [
    "from src.sokoban_solver import (\n",
    "    SokobanEdge,\n",
    "    SokobanNode,\n",
    "    Solver,\n",
    "    BFSQueue,\n",
    "    PriorityQueue,\n",
    ")\n",
    "from src.heuristics import (\n",
    "    f_priority_length,\n",
    "    f_priority_l1_naive,\n",
    "    f_priority_l1_symmetric_naive,\n",
    "    f_priority_l1_matching,\n",
    "    f_priority_dijkstra,\n",
    "    f_priority_dijkstra_stuck_basic,\n",
    "    f_priority_dlsb,\n",
    ")\n",
    "from boards.utilities import load_json_to_dict"
   ]
  },
  {
   "cell_type": "markdown",
   "metadata": {},
   "source": [
    "**Solver to do**\n",
    "- Implement more heuristics\n",
    "    - Chained heuristics: box pushing path length, via solving sub-problems\n",
    "        - Include timeouts: box pushing distance, but if it times out we'll opt for board distance with a pruning condition\n",
    "        - Considering stuck boxes to be equivalent to walls when making the sub problems\n",
    "    - Splitting into sub puzzles?\n",
    "- Create unit tests (runs solver on some test problems)\n",
    "- requirements.txt\n",
    "- What would it look like to work neural nets into the problem? As the sole heuristic? For blending heuristics? For a CNN? What's the right learning framework? Reinforcement?\n",
    "\n",
    "**Generator to do**\n",
    "- Learn the papers\n",
    "    - https://citeseerx.ist.psu.edu/document?repid=rep1&type=pdf&doi=af6c8e280946f019c7f632c8281a35ddf1fdc9b0\n",
    "    - https://ianparberry.com/techreports/LARC-2011-01.pdf\n",
    "    - https://ieee-cog.org/2020/papers/paper_44.pdf\n",
    "    - XSokoban test suite: https://sokoban-solver-statistics.sourceforge.io/statistics/XSokoban/XSokoban.html\n",
    "    - Also do a bit more literature search\n",
    "- Start implementing techniques\n",
    "\n",
    "**Misc to do**\n",
    "- Install htop: https://htop.dev/downloads.html"
   ]
  },
  {
   "cell_type": "markdown",
   "metadata": {
    "jp-MarkdownHeadingCollapsed": true
   },
   "source": [
    "## Thinking"
   ]
  },
  {
   "cell_type": "markdown",
   "metadata": {},
   "source": [
    "### Stuck"
   ]
  },
  {
   "cell_type": "markdown",
   "metadata": {},
   "source": [
    "- Gets stuck already on this puzzle: https://linusakesson.net/games/autosokoban/?v=1&seed=1565730199&level=3\n",
    "- A few clear issues here\n",
    "    - It can't figure out the \"easy\" move of pushing a block down a hallway\n",
    "    - One of the blocks just has to be pushed into the right location which should be trivial, but it's effectively pushing it randomly so good luck\n",
    "- Easy heuristic idea\n",
    "    - Priority queue by the minimum \"empty board\" solve distance: sum of L1 distances\n",
    "    - Easy to have a test for this: a big empty board where you have to push the block 20 spaces to the goal\n",
    "- Better heuristic\n",
    "    - Instead of L1 distances, use \"pushing this block as if it was the only block on the board\" distance\n",
    "    - The test would be pushing a block down a hall, around a U bend, and back down the \"other side\" hallway\n",
    "    - This would naturally handle the case of a block which is stuck! Since a stuck block would have no way of pushing it to a goal.\n",
    "    - Let's start with the other one first, then I need to think about \"contract\" stuff for how to compute the priorities with the new metric.\n",
    "- OK actually I'm happy for now, I can get to trying more heuristics later"
   ]
  },
  {
   "cell_type": "markdown",
   "metadata": {
    "jp-MarkdownHeadingCollapsed": true
   },
   "source": [
    "## Basic demos"
   ]
  },
  {
   "cell_type": "code",
   "execution_count": 4,
   "metadata": {},
   "outputs": [
    {
     "name": "stdout",
     "output_type": "stream",
     "text": [
      "Player component:  {(0, 0)}\n",
      "Avaiable pushes:  []\n",
      "Is solved?:  True\n",
      "█ █ █ █ █ █\n",
      "█ █ █ █ █ █\n",
      "█ █ ○ ■ █ █\n",
      "█ █ █ █ █ █\n",
      "█ █ █ █ █ █\n"
     ]
    }
   ],
   "source": [
    "filename = './boards/board_trivial.json'\n",
    "d = load_json_to_dict(filename)\n",
    "\n",
    "airs = d['airs']\n",
    "boxes = d['boxes']\n",
    "goals = d['goals']\n",
    "player = d['player']\n",
    "\n",
    "node = SokobanNode(airs, boxes, goals, player)\n",
    "print('Player component: ', node.player_component)\n",
    "print('Avaiable pushes: ', node.edges)\n",
    "print('Is solved?: ', node.solved)\n",
    "\n",
    "print(node)"
   ]
  },
  {
   "cell_type": "code",
   "execution_count": 5,
   "metadata": {},
   "outputs": [
    {
     "name": "stdout",
     "output_type": "stream",
     "text": [
      "Player component:  {(0, 0)}\n",
      "Avaiable pushes:  [SokobanEdge((1, 0), (0, 0), (1, 0), (2, 0))]\n",
      "Is solved?:  False\n",
      "█ █ █ █ █ █ █\n",
      "█ █ █ █ █ █ █\n",
      "█ █ ○ □ · █ █\n",
      "█ █ █ █ █ █ █\n",
      "█ █ █ █ █ █ █\n"
     ]
    }
   ],
   "source": [
    "filename = './boards/board_simple1.json'\n",
    "d = load_json_to_dict(filename)\n",
    "\n",
    "airs = d['airs']\n",
    "boxes = d['boxes']\n",
    "goals = d['goals']\n",
    "player = d['player']\n",
    "\n",
    "node1 = SokobanNode(airs, boxes, goals, player)\n",
    "print('Player component: ', node1.player_component)\n",
    "print('Avaiable pushes: ', node1.edges)\n",
    "print('Is solved?: ', node1.solved)\n",
    "\n",
    "print(node1)"
   ]
  },
  {
   "cell_type": "code",
   "execution_count": 6,
   "metadata": {},
   "outputs": [
    {
     "name": "stdout",
     "output_type": "stream",
     "text": [
      "Player component:  {(0, 0)}\n",
      "Avaiable pushes:  [SokobanEdge((0, 1), (0, 0), (0, 1), (0, 2)), SokobanEdge((1, 0), (0, 0), (1, 0), (2, 0))]\n",
      "Is solved?:  False\n",
      "█ █ █ █ █ █ █\n",
      "█ █ █ █ █ █ █\n",
      "█ █ · ·   █ █\n",
      "█ █ □ □   █ █\n",
      "█ █ ○ □ · █ █\n",
      "█ █ █ █ █ █ █\n",
      "█ █ █ █ █ █ █\n"
     ]
    }
   ],
   "source": [
    "filename = './boards/board_simple2.json'\n",
    "d = load_json_to_dict(filename)\n",
    "\n",
    "airs = d['airs']\n",
    "boxes = d['boxes']\n",
    "goals = d['goals']\n",
    "player = d['player']\n",
    "\n",
    "node2 = SokobanNode(airs, boxes, goals, player)\n",
    "print('Player component: ', node2.player_component)\n",
    "print('Avaiable pushes: ', node2.edges)\n",
    "print('Is solved?: ', node2.solved)\n",
    "\n",
    "print(node2)"
   ]
  },
  {
   "cell_type": "code",
   "execution_count": 7,
   "metadata": {},
   "outputs": [
    {
     "name": "stdout",
     "output_type": "stream",
     "text": [
      "Player component:  {(4, 0), (3, 4), (4, 3), (3, 1), (0, 2), (1, 0), (1, 3), (4, 2), (3, 0), (3, 3), (0, 1), (2, 4), (1, 2), (0, 4), (2, 1), (4, 1), (4, 4), (0, 0), (1, 1), (0, 3), (2, 0), (1, 4)}\n",
      "Avaiable pushes:  [SokobanEdge((1, 0), (1, 3), (2, 3), (3, 3)), SokobanEdge((-1, 0), (3, 3), (2, 3), (1, 3))]\n",
      "Is solved?:  False\n",
      "█ █ █ █ █ █ █ █ █\n",
      "█ █ █ █ █ █ █ █ █\n",
      "█ █           █ █\n",
      "█ █     ■ ·   █ █\n",
      "█ █     □ █   █ █\n",
      "█ █   ○       █ █\n",
      "█ █           █ █\n",
      "█ █ █ █ █ █ █ █ █\n",
      "█ █ █ █ █ █ █ █ █\n"
     ]
    }
   ],
   "source": [
    "filename = './boards/board_simple3.json'\n",
    "d = load_json_to_dict(filename)\n",
    "\n",
    "airs = d['airs']\n",
    "boxes = d['boxes']\n",
    "goals = d['goals']\n",
    "player = d['player']\n",
    "\n",
    "node3 = SokobanNode(airs, boxes, goals, player)\n",
    "print('Player component: ', node3.player_component)\n",
    "print('Avaiable pushes: ', node3.edges)\n",
    "print('Is solved?: ', node3.solved)\n",
    "\n",
    "print(node3)"
   ]
  },
  {
   "cell_type": "code",
   "execution_count": 8,
   "metadata": {},
   "outputs": [
    {
     "data": {
      "text/plain": [
       "(False, False, False)"
      ]
     },
     "execution_count": 8,
     "metadata": {},
     "output_type": "execute_result"
    }
   ],
   "source": [
    "node1 == node2, node1 == node3, node2 == node3"
   ]
  },
  {
   "cell_type": "code",
   "execution_count": 9,
   "metadata": {},
   "outputs": [
    {
     "name": "stdout",
     "output_type": "stream",
     "text": [
      "█ █ █ █ █ █\n",
      "█ █ █ █ █ █\n",
      "█ █ ○ ■ █ █\n",
      "█ █ █ █ █ █\n",
      "█ █ █ █ █ █\n",
      "\n",
      "with no moves\n"
     ]
    }
   ],
   "source": [
    "solver = Solver(BFSQueue(), node)\n",
    "solver.solve()\n",
    "print(solver.solution)"
   ]
  },
  {
   "cell_type": "code",
   "execution_count": 11,
   "metadata": {},
   "outputs": [
    {
     "name": "stdout",
     "output_type": "stream",
     "text": [
      "█ █ █ █ █ █ █\n",
      "█ █ █ █ █ █ █\n",
      "█ █ ○ □ · █ █\n",
      "█ █ █ █ █ █ █\n",
      "█ █ █ █ █ █ █\n",
      "\n",
      "to\n",
      "\n",
      "█ █ █ █ █ █ █\n",
      "█ █ █ █ █ █ █\n",
      "█ █   ○ ■ █ █\n",
      "█ █ █ █ █ █ █\n",
      "█ █ █ █ █ █ █\n",
      "\n",
      "via\n",
      "\n",
      "Move (1, 0) from (0, 0) to (1, 0)\n"
     ]
    }
   ],
   "source": [
    "solver = Solver(BFSQueue(), node1)\n",
    "solver.solve()\n",
    "print(solver.solution)"
   ]
  },
  {
   "cell_type": "code",
   "execution_count": 12,
   "metadata": {},
   "outputs": [
    {
     "name": "stdout",
     "output_type": "stream",
     "text": [
      "█ █ █ █ █ █ █\n",
      "█ █ █ █ █ █ █\n",
      "█ █ · ·   █ █\n",
      "█ █ □ □   █ █\n",
      "█ █ ○ □ · █ █\n",
      "█ █ █ █ █ █ █\n",
      "█ █ █ █ █ █ █\n",
      "\n",
      "to\n",
      "\n",
      "█ █ █ █ █ █ █\n",
      "█ █ █ █ █ █ █\n",
      "█ █ ■ ■   █ █\n",
      "█ █   ○   █ █\n",
      "█ █     ■ █ █\n",
      "█ █ █ █ █ █ █\n",
      "█ █ █ █ █ █ █\n",
      "\n",
      "via\n",
      "\n",
      "Move (0, 1) from (0, 0) to (0, 1)\n",
      "Move (1, 0) from (0, 0) to (1, 0)\n",
      "Move (0, 1) from (1, 0) to (1, 1)\n"
     ]
    }
   ],
   "source": [
    "solver = Solver(BFSQueue(), node2)\n",
    "solver.solve()\n",
    "print(solver.solution)"
   ]
  },
  {
   "cell_type": "code",
   "execution_count": 13,
   "metadata": {},
   "outputs": [
    {
     "name": "stdout",
     "output_type": "stream",
     "text": [
      "█ █ █ █ █ █ █ █ █\n",
      "█ █ █ █ █ █ █ █ █\n",
      "█ █           █ █\n",
      "█ █     ■ ·   █ █\n",
      "█ █     □ █   █ █\n",
      "█ █   ○       █ █\n",
      "█ █           █ █\n",
      "█ █ █ █ █ █ █ █ █\n",
      "█ █ █ █ █ █ █ █ █\n",
      "\n",
      "to\n",
      "\n",
      "█ █ █ █ █ █ █ █ █\n",
      "█ █ █ █ █ █ █ █ █\n",
      "█ █           █ █\n",
      "█ █     ■ ■   █ █\n",
      "█ █     ○ █   █ █\n",
      "█ █           █ █\n",
      "█ █           █ █\n",
      "█ █ █ █ █ █ █ █ █\n",
      "█ █ █ █ █ █ █ █ █\n",
      "\n",
      "via\n",
      "\n",
      "Move (1, 0) from (1, 3) to (2, 3)\n",
      "Move (0, 1) from (2, 1) to (2, 2)\n"
     ]
    }
   ],
   "source": [
    "solver = Solver(BFSQueue(), node3)\n",
    "solver.solve()\n",
    "print(solver.solution)"
   ]
  },
  {
   "cell_type": "markdown",
   "metadata": {
    "jp-MarkdownHeadingCollapsed": true
   },
   "source": [
    "## Real puzzles"
   ]
  },
  {
   "cell_type": "code",
   "execution_count": 121,
   "metadata": {},
   "outputs": [
    {
     "name": "stdout",
     "output_type": "stream",
     "text": [
      "█ █ █ █ █ █ █ █ █ █ █ █ █ █ █\n",
      "█ █ █ █ █ █ █ █ █ █ █ █ █ █ █\n",
      "█ █                       █ █\n",
      "█ █                   ·   █ █\n",
      "█ █                       █ █\n",
      "█ █                       █ █\n",
      "█ █                       █ █\n",
      "█ █           ○           █ █\n",
      "█ █                       █ █\n",
      "█ █                       █ █\n",
      "█ █                       █ █\n",
      "█ █   □                   █ █\n",
      "█ █                       █ █\n",
      "█ █ █ █ █ █ █ █ █ █ █ █ █ █ █\n",
      "█ █ █ █ █ █ █ █ █ █ █ █ █ █ █\n"
     ]
    }
   ],
   "source": [
    "filename = './boards/board_open.json'\n",
    "d = load_json_to_dict(filename)\n",
    "\n",
    "airs = d['airs']\n",
    "boxes = d['boxes']\n",
    "goals = d['goals']\n",
    "player = d['player']\n",
    "\n",
    "node = SokobanNode(airs, boxes, goals, player)\n",
    "print(node)"
   ]
  },
  {
   "cell_type": "code",
   "execution_count": 122,
   "metadata": {},
   "outputs": [
    {
     "data": {
      "text/plain": [
       "301"
      ]
     },
     "execution_count": 122,
     "metadata": {},
     "output_type": "execute_result"
    }
   ],
   "source": [
    "# fails\n",
    "solver = Solver(BFSQueue(), node)\n",
    "solver.solve(max_seconds=1)"
   ]
  },
  {
   "cell_type": "code",
   "execution_count": 123,
   "metadata": {},
   "outputs": [
    {
     "data": {
      "text/plain": [
       "301"
      ]
     },
     "execution_count": 123,
     "metadata": {},
     "output_type": "execute_result"
    }
   ],
   "source": [
    "# fails (it's just BFS!)\n",
    "solver = Solver(PriorityQueue(f_priority_length), node)\n",
    "solver.solve(max_seconds=1)"
   ]
  },
  {
   "cell_type": "code",
   "execution_count": 124,
   "metadata": {},
   "outputs": [
    {
     "data": {
      "text/plain": [
       "200"
      ]
     },
     "execution_count": 124,
     "metadata": {},
     "output_type": "execute_result"
    }
   ],
   "source": [
    "# succeeds!\n",
    "solver = Solver(PriorityQueue(f_priority_l1_naive), node)\n",
    "solver.solve(max_seconds=1)"
   ]
  },
  {
   "cell_type": "code",
   "execution_count": 125,
   "metadata": {},
   "outputs": [
    {
     "name": "stdout",
     "output_type": "stream",
     "text": [
      "█ █ █ █ █ █ █ █ █ █ █ █ █ █ █\n",
      "█ █ █ █ █ █ █ █ █ █ █ █ █ █ █\n",
      "█ █                       █ █\n",
      "█ █                   ·   █ █\n",
      "█ █                       █ █\n",
      "█ █                       █ █\n",
      "█ █                       █ █\n",
      "█ █           ○           █ █\n",
      "█ █                       █ █\n",
      "█ █                       █ █\n",
      "█ █                       █ █\n",
      "█ █   □                   █ █\n",
      "█ █                       █ █\n",
      "█ █ █ █ █ █ █ █ █ █ █ █ █ █ █\n",
      "█ █ █ █ █ █ █ █ █ █ █ █ █ █ █\n",
      "\n",
      "to\n",
      "\n",
      "█ █ █ █ █ █ █ █ █ █ █ █ █ █ █\n",
      "█ █ █ █ █ █ █ █ █ █ █ █ █ █ █\n",
      "█ █                       █ █\n",
      "█ █                   ■   █ █\n",
      "█ █                   ○   █ █\n",
      "█ █                       █ █\n",
      "█ █                       █ █\n",
      "█ █                       █ █\n",
      "█ █                       █ █\n",
      "█ █                       █ █\n",
      "█ █                       █ █\n",
      "█ █                       █ █\n",
      "█ █                       █ █\n",
      "█ █ █ █ █ █ █ █ █ █ █ █ █ █ █\n",
      "█ █ █ █ █ █ █ █ █ █ █ █ █ █ █\n",
      "\n",
      "via\n",
      "\n",
      "Move (1, 0) from (0, 1) to (1, 1)\n",
      "Move (1, 0) from (1, 1) to (2, 1)\n",
      "Move (1, 0) from (2, 1) to (3, 1)\n",
      "Move (1, 0) from (3, 1) to (4, 1)\n",
      "Move (1, 0) from (4, 1) to (5, 1)\n",
      "Move (1, 0) from (5, 1) to (6, 1)\n",
      "Move (1, 0) from (6, 1) to (7, 1)\n",
      "Move (1, 0) from (7, 1) to (8, 1)\n",
      "Move (0, 1) from (9, 0) to (9, 1)\n",
      "Move (0, 1) from (9, 1) to (9, 2)\n",
      "Move (0, 1) from (9, 2) to (9, 3)\n",
      "Move (0, 1) from (9, 3) to (9, 4)\n",
      "Move (0, 1) from (9, 4) to (9, 5)\n",
      "Move (0, 1) from (9, 5) to (9, 6)\n",
      "Move (0, 1) from (9, 6) to (9, 7)\n",
      "Move (0, 1) from (9, 7) to (9, 8)\n"
     ]
    }
   ],
   "source": [
    "print(solver.solution)"
   ]
  },
  {
   "cell_type": "code",
   "execution_count": null,
   "metadata": {},
   "outputs": [],
   "source": []
  },
  {
   "cell_type": "code",
   "execution_count": 229,
   "metadata": {},
   "outputs": [
    {
     "name": "stdout",
     "output_type": "stream",
     "text": [
      "█ █ █ █ █ █ █ █ █ █ █ █ █ █\n",
      "█ █ █ █ █ █ █ █ █ █ █ █ █ █\n",
      "█ █   ·                 █ █\n",
      "█ █ █ █ █ █ █ █ █ █     █ █\n",
      "█ █               █     █ █\n",
      "█ █               █     █ █\n",
      "█ █               █     █ █\n",
      "█ █               █     █ █\n",
      "█ █ ○ □                 █ █\n",
      "█ █                     █ █\n",
      "█ █ █ █ █ █ █ █ █ █ █ █ █ █\n",
      "█ █ █ █ █ █ █ █ █ █ █ █ █ █\n"
     ]
    }
   ],
   "source": [
    "filename = './boards/board_tricky_uturn.json'\n",
    "d = load_json_to_dict(filename)\n",
    "\n",
    "airs = d['airs']\n",
    "boxes = d['boxes']\n",
    "goals = d['goals']\n",
    "player = d['player']\n",
    "\n",
    "node = SokobanNode(airs, boxes, goals, player)\n",
    "print(node)"
   ]
  },
  {
   "cell_type": "code",
   "execution_count": 273,
   "metadata": {},
   "outputs": [
    {
     "data": {
      "text/plain": [
       "302"
      ]
     },
     "execution_count": 273,
     "metadata": {},
     "output_type": "execute_result"
    }
   ],
   "source": [
    "# usual heuristic takes lots of iters (but it does work quickly)\n",
    "solver = Solver(PriorityQueue(f_priority_l1_matching), node)\n",
    "solver.solve(max_iters=30)"
   ]
  },
  {
   "cell_type": "code",
   "execution_count": 275,
   "metadata": {},
   "outputs": [
    {
     "data": {
      "text/plain": [
       "200"
      ]
     },
     "execution_count": 275,
     "metadata": {},
     "output_type": "execute_result"
    }
   ],
   "source": [
    "# dijkstra heuristic gets it quickly!\n",
    "solver = Solver(PriorityQueue(f_priority_dijkstra), node)\n",
    "solver.solve(max_iters=30)"
   ]
  },
  {
   "cell_type": "code",
   "execution_count": null,
   "metadata": {},
   "outputs": [],
   "source": []
  },
  {
   "cell_type": "markdown",
   "metadata": {},
   "source": [
    "https://linusakesson.net/games/autosokoban/?v=1&seed=1565730199&level=1"
   ]
  },
  {
   "cell_type": "code",
   "execution_count": 126,
   "metadata": {},
   "outputs": [
    {
     "name": "stdout",
     "output_type": "stream",
     "text": [
      "█ █ █ █ █ █ █ █ █ █ █ █ █\n",
      "█ █ █ █ █ █ █ █ █ █ █ █ █\n",
      "█ █       █ █ █ █ █ █ █ █\n",
      "█ █   █ · █ █ █ █ █ █ █ █\n",
      "█ █   █   █ █ █ █ █ █ █ █\n",
      "█ █   █   █ █ █ █ █ █ █ █\n",
      "█ █       █           █ █\n",
      "█ █ █     █   █ █ █   █ █\n",
      "█ █   □ ■       █ █   █ █\n",
      "█ █ █   ○ █           █ █\n",
      "█ █ █ █ █ █       █ █ █ █\n",
      "█ █ █ █ █ █ █ █ █ █ █ █ █\n",
      "█ █ █ █ █ █ █ █ █ █ █ █ █\n"
     ]
    }
   ],
   "source": [
    "filename = './boards/board_v=1&seed=1565730199&level=1.json'\n",
    "d = load_json_to_dict(filename)\n",
    "\n",
    "airs = d['airs']\n",
    "boxes = d['boxes']\n",
    "goals = d['goals']\n",
    "player = d['player']\n",
    "\n",
    "node = SokobanNode(airs, boxes, goals, player)\n",
    "print(node)"
   ]
  },
  {
   "cell_type": "code",
   "execution_count": 127,
   "metadata": {},
   "outputs": [
    {
     "name": "stdout",
     "output_type": "stream",
     "text": [
      "█ █ █ █ █ █ █ █ █ █ █ █ █\n",
      "█ █ █ █ █ █ █ █ █ █ █ █ █\n",
      "█ █       █ █ █ █ █ █ █ █\n",
      "█ █   █ · █ █ █ █ █ █ █ █\n",
      "█ █   █   █ █ █ █ █ █ █ █\n",
      "█ █   █   █ █ █ █ █ █ █ █\n",
      "█ █       █           █ █\n",
      "█ █ █     █   █ █ █   █ █\n",
      "█ █   □ ■       █ █   █ █\n",
      "█ █ █   ○ █           █ █\n",
      "█ █ █ █ █ █       █ █ █ █\n",
      "█ █ █ █ █ █ █ █ █ █ █ █ █\n",
      "█ █ █ █ █ █ █ █ █ █ █ █ █\n",
      "\n",
      "to\n",
      "\n",
      "█ █ █ █ █ █ █ █ █ █ █ █ █\n",
      "█ █ █ █ █ █ █ █ █ █ █ █ █\n",
      "█ █       █ █ █ █ █ █ █ █\n",
      "█ █   █ ■ █ █ █ █ █ █ █ █\n",
      "█ █   █ ○ █ █ █ █ █ █ █ █\n",
      "█ █   █   █ █ █ █ █ █ █ █\n",
      "█ █       █           █ █\n",
      "█ █ █     █   █ █ █   █ █\n",
      "█ █     ■       █ █   █ █\n",
      "█ █ █     █           █ █\n",
      "█ █ █ █ █ █       █ █ █ █\n",
      "█ █ █ █ █ █ █ █ █ █ █ █ █\n",
      "█ █ █ █ █ █ █ █ █ █ █ █ █\n",
      "\n",
      "via\n",
      "\n",
      "Move (0, 1) from (1, 1) to (1, 2)\n",
      "Move (0, 1) from (1, 2) to (1, 3)\n",
      "Move (1, 0) from (0, 4) to (1, 4)\n",
      "Move (0, 1) from (2, 3) to (2, 4)\n",
      "Move (0, 1) from (2, 4) to (2, 5)\n",
      "Move (0, 1) from (2, 5) to (2, 6)\n"
     ]
    }
   ],
   "source": [
    "solver = Solver(PriorityQueue(f_priority_l1_naive), node)\n",
    "solver.solve()\n",
    "print(solver.solution)"
   ]
  },
  {
   "cell_type": "code",
   "execution_count": null,
   "metadata": {},
   "outputs": [],
   "source": []
  },
  {
   "cell_type": "markdown",
   "metadata": {},
   "source": [
    "https://linusakesson.net/games/autosokoban/?v=1&seed=1565730199&level=2"
   ]
  },
  {
   "cell_type": "code",
   "execution_count": 128,
   "metadata": {},
   "outputs": [
    {
     "name": "stdout",
     "output_type": "stream",
     "text": [
      "█ █ █ █ █ █ █ █ █ █ █ █ █ █\n",
      "█ █ █ █ █ █ █ █ █ █ █ █ █ █\n",
      "█ █ █ ○ █ █ █ █ █ █ █ █ █ █\n",
      "█ █ █ □ █ █ █ █ █ █ █ █ █ █\n",
      "█ █ █   █ █ █     █ █ █ █ █\n",
      "█ █ ·   □   █     █ █ █ █ █\n",
      "█ █     █   █         █ █ █\n",
      "█ █   · █     ·   □     █ █\n",
      "█ █   █ █   █     █   █ █ █\n",
      "█ █                   █ █ █\n",
      "█ █ █ █ █ █ █ █ █ █ █ █ █ █\n",
      "█ █ █ █ █ █ █ █ █ █ █ █ █ █\n"
     ]
    }
   ],
   "source": [
    "filename = './boards/board_v=1&seed=1565730199&level=2.json'\n",
    "d = load_json_to_dict(filename)\n",
    "\n",
    "airs = d['airs']\n",
    "boxes = d['boxes']\n",
    "goals = d['goals']\n",
    "player = d['player']\n",
    "\n",
    "node = SokobanNode(airs, boxes, goals, player)\n",
    "print(node)"
   ]
  },
  {
   "cell_type": "code",
   "execution_count": 129,
   "metadata": {},
   "outputs": [
    {
     "name": "stdout",
     "output_type": "stream",
     "text": [
      "█ █ █ █ █ █ █ █ █ █ █ █ █ █\n",
      "█ █ █ █ █ █ █ █ █ █ █ █ █ █\n",
      "█ █ █ ○ █ █ █ █ █ █ █ █ █ █\n",
      "█ █ █ □ █ █ █ █ █ █ █ █ █ █\n",
      "█ █ █   █ █ █     █ █ █ █ █\n",
      "█ █ ·   □   █     █ █ █ █ █\n",
      "█ █     █   █         █ █ █\n",
      "█ █   · █     ·   □     █ █\n",
      "█ █   █ █   █     █   █ █ █\n",
      "█ █                   █ █ █\n",
      "█ █ █ █ █ █ █ █ █ █ █ █ █ █\n",
      "█ █ █ █ █ █ █ █ █ █ █ █ █ █\n",
      "\n",
      "to\n",
      "\n",
      "█ █ █ █ █ █ █ █ █ █ █ █ █ █\n",
      "█ █ █ █ █ █ █ █ █ █ █ █ █ █\n",
      "█ █ █   █ █ █ █ █ █ █ █ █ █\n",
      "█ █ █   █ █ █ █ █ █ █ █ █ █\n",
      "█ █ █   █ █ █     █ █ █ █ █\n",
      "█ █ ■       █     █ █ █ █ █\n",
      "█ █     █   █         █ █ █\n",
      "█ █   ■ █     ■ ○       █ █\n",
      "█ █   █ █   █     █   █ █ █\n",
      "█ █                   █ █ █\n",
      "█ █ █ █ █ █ █ █ █ █ █ █ █ █\n",
      "█ █ █ █ █ █ █ █ █ █ █ █ █ █\n",
      "\n",
      "via\n",
      "\n",
      "Move (0, -1) from (2, 8) to (2, 7)\n",
      "Move (0, -1) from (2, 7) to (2, 6)\n",
      "Move (0, -1) from (2, 6) to (2, 5)\n",
      "Move (-1, 0) from (9, 3) to (8, 3)\n",
      "Move (0, -1) from (2, 5) to (2, 4)\n",
      "Move (-1, 0) from (4, 5) to (3, 5)\n",
      "Move (-1, 0) from (3, 5) to (2, 5)\n",
      "Move (-1, 0) from (8, 3) to (7, 3)\n"
     ]
    }
   ],
   "source": [
    "solver = Solver(PriorityQueue(f_priority_l1_naive), node)\n",
    "solver.solve()\n",
    "print(solver.solution)"
   ]
  },
  {
   "cell_type": "code",
   "execution_count": null,
   "metadata": {},
   "outputs": [],
   "source": []
  },
  {
   "cell_type": "markdown",
   "metadata": {},
   "source": [
    "https://linusakesson.net/games/autosokoban/?v=1&seed=1565730199&level=3"
   ]
  },
  {
   "cell_type": "code",
   "execution_count": 130,
   "metadata": {},
   "outputs": [
    {
     "name": "stdout",
     "output_type": "stream",
     "text": [
      "█ █ █ █ █ █ █ █ █ █ █ █ █\n",
      "█ █ █ █ █ █ █ █ █ █ █ █ █\n",
      "█ █ █ █ █ █ █         █ █\n",
      "█ █ █ █ █ █ █   █ □   █ █\n",
      "█ █ ·         ·       █ █\n",
      "█ █ █ █ █ █ █   □     █ █\n",
      "█ █ █ █ █ █ █     █   █ █\n",
      "█ █ █ █ █ █ █         █ █\n",
      "█ █ █ █ █ █ █ █   █   █ █\n",
      "█ █ █ █ █ █ █ █ ○   ■ █ █\n",
      "█ █ █ █ █ █ █ █ █ █ █ █ █\n",
      "█ █ █ █ █ █ █ █ █ █ █ █ █\n"
     ]
    }
   ],
   "source": [
    "filename = './boards/board_v=1&seed=1565730199&level=3.json'\n",
    "d = load_json_to_dict(filename)\n",
    "\n",
    "airs = d['airs']\n",
    "boxes = d['boxes']\n",
    "goals = d['goals']\n",
    "player = d['player']\n",
    "\n",
    "node = SokobanNode(airs, boxes, goals, player)\n",
    "print(node)"
   ]
  },
  {
   "cell_type": "code",
   "execution_count": 131,
   "metadata": {},
   "outputs": [
    {
     "data": {
      "text/plain": [
       "301"
      ]
     },
     "execution_count": 131,
     "metadata": {},
     "output_type": "execute_result"
    }
   ],
   "source": [
    "# fails with naive l1 priority\n",
    "solver = Solver(PriorityQueue(f_priority_l1_naive), node)\n",
    "solver.solve(max_seconds=1)"
   ]
  },
  {
   "cell_type": "code",
   "execution_count": 132,
   "metadata": {},
   "outputs": [
    {
     "data": {
      "text/plain": [
       "200"
      ]
     },
     "execution_count": 132,
     "metadata": {},
     "output_type": "execute_result"
    }
   ],
   "source": [
    "# succeeds with symmetric naive l1 priority!\n",
    "solver = Solver(PriorityQueue(f_priority_l1_symmetric_naive), node)\n",
    "solver.solve(max_seconds=1)"
   ]
  },
  {
   "cell_type": "code",
   "execution_count": 133,
   "metadata": {},
   "outputs": [
    {
     "data": {
      "text/plain": [
       "200"
      ]
     },
     "execution_count": 133,
     "metadata": {},
     "output_type": "execute_result"
    }
   ],
   "source": [
    "# succeeds with l1 matching priority!\n",
    "solver = Solver(PriorityQueue(f_priority_l1_matching), node)\n",
    "solver.solve(max_seconds=1)"
   ]
  },
  {
   "cell_type": "code",
   "execution_count": 134,
   "metadata": {},
   "outputs": [
    {
     "name": "stdout",
     "output_type": "stream",
     "text": [
      "█ █ █ █ █ █ █ █ █ █ █ █ █\n",
      "█ █ █ █ █ █ █ █ █ █ █ █ █\n",
      "█ █ █ █ █ █ █         █ █\n",
      "█ █ █ █ █ █ █   █ □   █ █\n",
      "█ █ ·         ·       █ █\n",
      "█ █ █ █ █ █ █   □     █ █\n",
      "█ █ █ █ █ █ █     █   █ █\n",
      "█ █ █ █ █ █ █         █ █\n",
      "█ █ █ █ █ █ █ █   █   █ █\n",
      "█ █ █ █ █ █ █ █ ○   ■ █ █\n",
      "█ █ █ █ █ █ █ █ █ █ █ █ █\n",
      "█ █ █ █ █ █ █ █ █ █ █ █ █\n",
      "\n",
      "to\n",
      "\n",
      "█ █ █ █ █ █ █ █ █ █ █ █ █\n",
      "█ █ █ █ █ █ █ █ █ █ █ █ █\n",
      "█ █ █ █ █ █ █         █ █\n",
      "█ █ █ █ █ █ █   █     █ █\n",
      "█ █ ■         ■       █ █\n",
      "█ █ █ █ █ █ █ ○       █ █\n",
      "█ █ █ █ █ █ █     █   █ █\n",
      "█ █ █ █ █ █ █         █ █\n",
      "█ █ █ █ █ █ █ █   █   █ █\n",
      "█ █ █ █ █ █ █ █     ■ █ █\n",
      "█ █ █ █ █ █ █ █ █ █ █ █ █\n",
      "█ █ █ █ █ █ █ █ █ █ █ █ █\n",
      "\n",
      "via\n",
      "\n",
      "Move (0, -1) from (7, 7) to (7, 6)\n",
      "Move (-1, 0) from (8, 5) to (7, 5)\n",
      "Move (-1, 0) from (7, 5) to (6, 5)\n",
      "Move (-1, 0) from (6, 5) to (5, 5)\n",
      "Move (-1, 0) from (5, 5) to (4, 5)\n",
      "Move (-1, 0) from (4, 5) to (3, 5)\n",
      "Move (-1, 0) from (3, 5) to (2, 5)\n",
      "Move (-1, 0) from (7, 4) to (6, 4)\n",
      "Move (-1, 0) from (2, 5) to (1, 5)\n",
      "Move (0, 1) from (5, 3) to (5, 4)\n"
     ]
    }
   ],
   "source": [
    "print(solver.solution)"
   ]
  },
  {
   "cell_type": "code",
   "execution_count": null,
   "metadata": {},
   "outputs": [],
   "source": []
  },
  {
   "cell_type": "markdown",
   "metadata": {},
   "source": [
    "https://linusakesson.net/games/autosokoban/?v=1&seed=1565730199&level=4"
   ]
  },
  {
   "cell_type": "code",
   "execution_count": 142,
   "metadata": {},
   "outputs": [
    {
     "name": "stdout",
     "output_type": "stream",
     "text": [
      "█ █ █ █ █ █ █ █ █ █ █ █\n",
      "█ █ █ █ █ █ █ █ █ █ █ █\n",
      "█ █ █       █ █ █ █ █ █\n",
      "█ █   □ █   █     █ █ █\n",
      "█ █           · ○   █ █\n",
      "█ █   □         ·   █ █\n",
      "█ █   ■ █         █ █ █\n",
      "█ █ □ █ █ █   █ █ █ █ █\n",
      "█ █   █ █ █   █ █ █ █ █\n",
      "█ █ · █ █ █   █ █ █ █ █\n",
      "█ █   █ █ █   █ █ █ █ █\n",
      "█ █   █ █ █ █ █ █ █ █ █\n",
      "█ █ █ █ █ █ █ █ █ █ █ █\n",
      "█ █ █ █ █ █ █ █ █ █ █ █\n"
     ]
    }
   ],
   "source": [
    "filename = './boards/board_v=1&seed=1565730199&level=4.json'\n",
    "d = load_json_to_dict(filename)\n",
    "\n",
    "airs = d['airs']\n",
    "boxes = d['boxes']\n",
    "goals = d['goals']\n",
    "player = d['player']\n",
    "\n",
    "node = SokobanNode(airs, boxes, goals, player)\n",
    "print(node)"
   ]
  },
  {
   "cell_type": "code",
   "execution_count": 145,
   "metadata": {},
   "outputs": [
    {
     "data": {
      "text/plain": [
       "301"
      ]
     },
     "execution_count": 145,
     "metadata": {},
     "output_type": "execute_result"
    }
   ],
   "source": [
    "# fails!\n",
    "solver = Solver(PriorityQueue(f_priority_l1_symmetric_naive), node)\n",
    "solver.solve(max_seconds=1)"
   ]
  },
  {
   "cell_type": "code",
   "execution_count": 146,
   "metadata": {},
   "outputs": [
    {
     "data": {
      "text/plain": [
       "200"
      ]
     },
     "execution_count": 146,
     "metadata": {},
     "output_type": "execute_result"
    }
   ],
   "source": [
    "# works!\n",
    "solver = Solver(PriorityQueue(f_priority_l1_matching), node)\n",
    "solver.solve(max_seconds=1)"
   ]
  },
  {
   "cell_type": "code",
   "execution_count": 147,
   "metadata": {},
   "outputs": [
    {
     "name": "stdout",
     "output_type": "stream",
     "text": [
      "█ █ █ █ █ █ █ █ █ █ █ █\n",
      "█ █ █ █ █ █ █ █ █ █ █ █\n",
      "█ █ █       █ █ █ █ █ █\n",
      "█ █   □ █   █     █ █ █\n",
      "█ █           · ○   █ █\n",
      "█ █   □         ·   █ █\n",
      "█ █   ■ █         █ █ █\n",
      "█ █ □ █ █ █   █ █ █ █ █\n",
      "█ █   █ █ █   █ █ █ █ █\n",
      "█ █ · █ █ █   █ █ █ █ █\n",
      "█ █   █ █ █   █ █ █ █ █\n",
      "█ █   █ █ █ █ █ █ █ █ █\n",
      "█ █ █ █ █ █ █ █ █ █ █ █\n",
      "█ █ █ █ █ █ █ █ █ █ █ █\n",
      "\n",
      "to\n",
      "\n",
      "█ █ █ █ █ █ █ █ █ █ █ █\n",
      "█ █ █ █ █ █ █ █ █ █ █ █\n",
      "█ █ █       █ █ █ █ █ █\n",
      "█ █     █   █     █ █ █\n",
      "█ █         ○ ■     █ █\n",
      "█ █             ■   █ █\n",
      "█ █   ■ █         █ █ █\n",
      "█ █   █ █ █   █ █ █ █ █\n",
      "█ █   █ █ █   █ █ █ █ █\n",
      "█ █ ■ █ █ █   █ █ █ █ █\n",
      "█ █   █ █ █   █ █ █ █ █\n",
      "█ █   █ █ █ █ █ █ █ █ █\n",
      "█ █ █ █ █ █ █ █ █ █ █ █\n",
      "█ █ █ █ █ █ █ █ █ █ █ █\n",
      "\n",
      "via\n",
      "\n",
      "Move (1, 0) from (0, 6) to (1, 6)\n",
      "Move (0, -1) from (0, 5) to (0, 4)\n",
      "Move (0, -1) from (0, 4) to (0, 3)\n",
      "Move (0, -1) from (1, 9) to (1, 8)\n",
      "Move (1, 0) from (0, 7) to (1, 7)\n",
      "Move (1, 0) from (1, 6) to (2, 6)\n",
      "Move (1, 0) from (1, 7) to (2, 7)\n",
      "Move (1, 0) from (2, 7) to (3, 7)\n",
      "Move (1, 0) from (2, 6) to (3, 6)\n",
      "Move (1, 0) from (3, 6) to (4, 6)\n",
      "Move (1, 0) from (4, 6) to (5, 6)\n",
      "Move (1, 0) from (3, 7) to (4, 7)\n"
     ]
    }
   ],
   "source": [
    "print(solver.solution)"
   ]
  },
  {
   "cell_type": "code",
   "execution_count": null,
   "metadata": {},
   "outputs": [],
   "source": []
  },
  {
   "cell_type": "markdown",
   "metadata": {},
   "source": [
    "https://linusakesson.net/games/autosokoban/?v=1&seed=1565730199&level=5"
   ]
  },
  {
   "cell_type": "code",
   "execution_count": 313,
   "metadata": {},
   "outputs": [
    {
     "name": "stdout",
     "output_type": "stream",
     "text": [
      "█ █ █ █ █ █ █ █ █ █ █ █ █\n",
      "█ █ █ █ █ █ █ █ █ █ █ █ █\n",
      "█ █ █ █ █         ● █ █ █\n",
      "█ █ █ █ █ · █ █ █   █ █ █\n",
      "█ █ █ █ █     █ █ □ █ █ █\n",
      "█ █               □   █ █\n",
      "█ █   █ █   █   █ █   █ █\n",
      "█ █   █ █   █         █ █\n",
      "█ █   █ █     ■ □ █ █ █ █\n",
      "█ █           ·   █ █ █ █\n",
      "█ █ █ █ █ █ █ █ █ █ █ █ █\n",
      "█ █ █ █ █ █ █ █ █ █ █ █ █\n"
     ]
    }
   ],
   "source": [
    "filename = './boards/board_v=1&seed=1565730199&level=5.json'\n",
    "d = load_json_to_dict(filename)\n",
    "\n",
    "airs = d['airs']\n",
    "boxes = d['boxes']\n",
    "goals = d['goals']\n",
    "player = d['player']\n",
    "\n",
    "node = SokobanNode(airs, boxes, goals, player)\n",
    "print(node)"
   ]
  },
  {
   "cell_type": "code",
   "execution_count": 315,
   "metadata": {},
   "outputs": [
    {
     "data": {
      "text/plain": [
       "301"
      ]
     },
     "execution_count": 315,
     "metadata": {},
     "output_type": "execute_result"
    }
   ],
   "source": [
    "# fails :(\n",
    "solver = Solver(PriorityQueue(f_priority_dijkstra), node)\n",
    "solver.solve(max_seconds=1)"
   ]
  },
  {
   "cell_type": "code",
   "execution_count": 318,
   "metadata": {},
   "outputs": [
    {
     "data": {
      "text/plain": [
       "200"
      ]
     },
     "execution_count": 318,
     "metadata": {},
     "output_type": "execute_result"
    }
   ],
   "source": [
    "# succeeds!\n",
    "solver = Solver(PriorityQueue(f_priority_dijkstra_stuck_basic), node)\n",
    "solver.solve(max_seconds=1)"
   ]
  },
  {
   "cell_type": "code",
   "execution_count": null,
   "metadata": {},
   "outputs": [],
   "source": []
  },
  {
   "cell_type": "markdown",
   "metadata": {},
   "source": [
    "https://linusakesson.net/games/autosokoban/?v=1&seed=1565730199&level=11\n",
    "\n",
    "The solution for this one is truly devious. So I'm not surprised the solver is unable to find it. But somehow Linus Akesson's solver made in like 2008 can get it, so clearly I'm doing something wrong."
   ]
  },
  {
   "cell_type": "code",
   "execution_count": 319,
   "metadata": {},
   "outputs": [
    {
     "name": "stdout",
     "output_type": "stream",
     "text": [
      "█ █ █ █ █ █ █ █ █ █ █ █\n",
      "█ █ █ █ █ █ █ █ █ █ █ █\n",
      "█ █ █ █ █   █ █ █ █ █ █\n",
      "█ █ █   ·         █ █ █\n",
      "█ █ █   █   □ · □   █ █\n",
      "█ █ · □ □   ■ ·     █ █\n",
      "█ █     □   █ █ █ █ █ █\n",
      "█ █   █ █   █ █ █ █ █ █\n",
      "█ █ · ○     █ █ █ █ █ █\n",
      "█ █ █ █ █ █ █ █ █ █ █ █\n",
      "█ █ █ █ █ █ █ █ █ █ █ █\n"
     ]
    }
   ],
   "source": [
    "filename = './boards/board_v=1&seed=1565730199&level=11.json'\n",
    "d = load_json_to_dict(filename)\n",
    "\n",
    "airs = d['airs']\n",
    "boxes = d['boxes']\n",
    "goals = d['goals']\n",
    "player = d['player']\n",
    "\n",
    "node = SokobanNode(airs, boxes, goals, player)\n",
    "print(node)"
   ]
  },
  {
   "cell_type": "code",
   "execution_count": 327,
   "metadata": {},
   "outputs": [
    {
     "data": {
      "text/plain": [
       "301"
      ]
     },
     "execution_count": 327,
     "metadata": {},
     "output_type": "execute_result"
    }
   ],
   "source": [
    "# fails\n",
    "solver = Solver(PriorityQueue(f_priority_l1_naive), node)\n",
    "solver.solve(max_seconds=1)"
   ]
  },
  {
   "cell_type": "code",
   "execution_count": 328,
   "metadata": {},
   "outputs": [
    {
     "data": {
      "text/plain": [
       "(6427, 15347, 4916)"
      ]
     },
     "execution_count": 328,
     "metadata": {},
     "output_type": "execute_result"
    }
   ],
   "source": [
    "# pretty insane searching\n",
    "solver.n_iters_overall, solver.n_revisited_overall, len(solver.queue)"
   ]
  },
  {
   "cell_type": "code",
   "execution_count": 329,
   "metadata": {
    "scrolled": true
   },
   "outputs": [
    {
     "name": "stdout",
     "output_type": "stream",
     "text": [
      "█ █ █ █ █ █ █ █ █ █ █ █\n",
      "█ █ █ █ █ █ █ █ █ █ █ █\n",
      "█ █ █ █ █   █ █ █ █ █ █\n",
      "█ █ █   ·         █ █ █\n",
      "█ █ █   █   □ · □   █ █\n",
      "█ █ · □ □   ■ ·     █ █\n",
      "█ █     □   █ █ █ █ █ █\n",
      "█ █   █ █   █ █ █ █ █ █\n",
      "█ █ · ○     █ █ █ █ █ █\n",
      "█ █ █ █ █ █ █ █ █ █ █ █\n",
      "█ █ █ █ █ █ █ █ █ █ █ █\n",
      "\n",
      "to\n",
      "\n",
      "█ █ █ █ █ █ █ █ █ █ █ █\n",
      "█ █ █ █ █ █ █ █ █ █ █ █\n",
      "█ █ █ █ █   █ █ █ █ █ █\n",
      "█ █ █   ·   ○ □   █ █ █\n",
      "█ █ █   █     ■     █ █\n",
      "█ █ ■   □ □ ■ ·     █ █\n",
      "█ █         █ █ █ █ █ █\n",
      "█ █   █ █   █ █ █ █ █ █\n",
      "█ █ ·       █ █ █ █ █ █\n",
      "█ █ █ █ █ █ █ █ █ █ █ █\n",
      "█ █ █ █ █ █ █ █ █ █ █ █\n",
      "\n",
      "via\n",
      "\n",
      "Move (1, 0) from (3, 4) to (4, 4)\n",
      "Move (-1, 0) from (3, 2) to (2, 2)\n",
      "Move (-1, 0) from (2, 2) to (1, 2)\n",
      "Move (0, 1) from (0, 1) to (0, 2)\n",
      "Move (0, -1) from (1, 4) to (1, 3)\n",
      "Move (1, 0) from (1, 3) to (2, 3)\n",
      "Move (0, 1) from (3, 2) to (3, 3)\n",
      "Move (0, 1) from (3, 3) to (3, 4)\n",
      "Move (-1, 0) from (4, 5) to (3, 5)\n",
      "Move (0, -1) from (6, 5) to (6, 4)\n",
      "Move (-1, 0) from (6, 4) to (5, 4)\n",
      "Move (-1, 0) from (5, 3) to (4, 3)\n",
      "Move (1, 0) from (3, 4) to (4, 4)\n",
      "Move (-1, 0) from (7, 3) to (6, 3)\n",
      "Move (-1, 0) from (4, 3) to (3, 3)\n",
      "Move (-1, 0) from (6, 3) to (5, 3)\n",
      "Move (1, 0) from (0, 2) to (1, 2)\n",
      "Move (1, 0) from (1, 2) to (2, 2)\n",
      "Move (0, 1) from (3, 1) to (3, 2)\n",
      "Move (1, 0) from (1, 5) to (2, 5)\n",
      "Move (1, 0) from (2, 5) to (3, 5)\n",
      "Move (1, 0) from (3, 5) to (4, 5)\n"
     ]
    }
   ],
   "source": [
    "# dumb attempt\n",
    "print(solver.queue[0])"
   ]
  },
  {
   "cell_type": "code",
   "execution_count": null,
   "metadata": {},
   "outputs": [],
   "source": []
  },
  {
   "cell_type": "code",
   "execution_count": 330,
   "metadata": {},
   "outputs": [
    {
     "data": {
      "text/plain": [
       "301"
      ]
     },
     "execution_count": 330,
     "metadata": {},
     "output_type": "execute_result"
    }
   ],
   "source": [
    "# fails\n",
    "solver = Solver(PriorityQueue(f_priority_dijkstra), node)\n",
    "solver.solve(max_seconds=1)"
   ]
  },
  {
   "cell_type": "code",
   "execution_count": 331,
   "metadata": {},
   "outputs": [
    {
     "data": {
      "text/plain": [
       "(488, 947, 334)"
      ]
     },
     "execution_count": 331,
     "metadata": {},
     "output_type": "execute_result"
    }
   ],
   "source": [
    "# much more reasonable searching\n",
    "solver.n_iters_overall, solver.n_revisited_overall, len(solver.queue)"
   ]
  },
  {
   "cell_type": "code",
   "execution_count": 332,
   "metadata": {
    "scrolled": true
   },
   "outputs": [
    {
     "name": "stdout",
     "output_type": "stream",
     "text": [
      "█ █ █ █ █ █ █ █ █ █ █ █\n",
      "█ █ █ █ █ █ █ █ █ █ █ █\n",
      "█ █ █ █ █   █ █ █ █ █ █\n",
      "█ █ █   ·         █ █ █\n",
      "█ █ █   █   □ · □   █ █\n",
      "█ █ · □ □   ■ ·     █ █\n",
      "█ █     □   █ █ █ █ █ █\n",
      "█ █   █ █   █ █ █ █ █ █\n",
      "█ █ · ○     █ █ █ █ █ █\n",
      "█ █ █ █ █ █ █ █ █ █ █ █\n",
      "█ █ █ █ █ █ █ █ █ █ █ █\n",
      "\n",
      "to\n",
      "\n",
      "█ █ █ █ █ █ █ █ █ █ █ █\n",
      "█ █ █ █ █ █ █ █ █ █ █ █\n",
      "█ █ █ █ █   █ █ █ █ █ █\n",
      "█ █ █ □ ·         █ █ █\n",
      "█ █ █   █     ■     █ █\n",
      "█ █ ■     □ ■ ●     █ █\n",
      "█ █         █ █ █ █ █ █\n",
      "█ █   █ █   █ █ █ █ █ █\n",
      "█ █ ■       █ █ █ █ █ █\n",
      "█ █ █ █ █ █ █ █ █ █ █ █\n",
      "█ █ █ █ █ █ █ █ █ █ █ █\n",
      "\n",
      "via\n",
      "\n",
      "Move (1, 0) from (3, 4) to (4, 4)\n",
      "Move (-1, 0) from (3, 2) to (2, 2)\n",
      "Move (-1, 0) from (2, 2) to (1, 2)\n",
      "Move (0, 1) from (1, 2) to (1, 3)\n",
      "Move (0, -1) from (0, 3) to (0, 2)\n",
      "Move (-1, 0) from (3, 3) to (2, 3)\n",
      "Move (0, -1) from (0, 2) to (0, 1)\n",
      "Move (-1, 0) from (2, 3) to (1, 3)\n",
      "Move (0, -1) from (6, 5) to (6, 4)\n",
      "Move (0, 1) from (1, 3) to (1, 4)\n",
      "Move (-1, 0) from (6, 4) to (5, 4)\n",
      "Move (-1, 0) from (5, 3) to (4, 3)\n",
      "Move (1, 0) from (3, 4) to (4, 4)\n",
      "Move (-1, 0) from (7, 3) to (6, 3)\n",
      "Move (-1, 0) from (6, 3) to (5, 3)\n"
     ]
    }
   ],
   "source": [
    "# reasonable attempt!\n",
    "print(solver.queue[0])"
   ]
  },
  {
   "cell_type": "code",
   "execution_count": null,
   "metadata": {},
   "outputs": [],
   "source": []
  },
  {
   "cell_type": "code",
   "execution_count": 335,
   "metadata": {},
   "outputs": [
    {
     "data": {
      "text/plain": [
       "301"
      ]
     },
     "execution_count": 335,
     "metadata": {},
     "output_type": "execute_result"
    }
   ],
   "source": [
    "# fails\n",
    "solver = Solver(PriorityQueue(f_priority_dijkstra_stuck_basic), node)\n",
    "solver.solve(max_seconds=1)"
   ]
  },
  {
   "cell_type": "code",
   "execution_count": 336,
   "metadata": {},
   "outputs": [
    {
     "data": {
      "text/plain": [
       "(427, 926, 413)"
      ]
     },
     "execution_count": 336,
     "metadata": {},
     "output_type": "execute_result"
    }
   ],
   "source": [
    "# again a reasonable queue\n",
    "solver.n_iters_overall, solver.n_revisited_overall, len(solver.queue)"
   ]
  },
  {
   "cell_type": "code",
   "execution_count": 337,
   "metadata": {
    "scrolled": true
   },
   "outputs": [
    {
     "name": "stdout",
     "output_type": "stream",
     "text": [
      "█ █ █ █ █ █ █ █ █ █ █ █\n",
      "█ █ █ █ █ █ █ █ █ █ █ █\n",
      "█ █ █ █ █   █ █ █ █ █ █\n",
      "█ █ █   ·         █ █ █\n",
      "█ █ █   █   □ · □   █ █\n",
      "█ █ · □ □   ■ ·     █ █\n",
      "█ █     □   █ █ █ █ █ █\n",
      "█ █   █ █   █ █ █ █ █ █\n",
      "█ █ · ○     █ █ █ █ █ █\n",
      "█ █ █ █ █ █ █ █ █ █ █ █\n",
      "█ █ █ █ █ █ █ █ █ █ █ █\n",
      "\n",
      "to\n",
      "\n",
      "█ █ █ █ █ █ █ █ █ █ █ █\n",
      "█ █ █ █ █ █ █ █ █ █ █ █\n",
      "█ █ █ █ █   █ █ █ █ █ █\n",
      "█ █ █   · □       █ █ █\n",
      "█ █ █ □ █   □ ●     █ █\n",
      "█ █ ·       ■ ■     █ █\n",
      "█ █         █ █ █ █ █ █\n",
      "█ █ □ █ █   █ █ █ █ █ █\n",
      "█ █ ·       █ █ █ █ █ █\n",
      "█ █ █ █ █ █ █ █ █ █ █ █\n",
      "█ █ █ █ █ █ █ █ █ █ █ █\n",
      "\n",
      "via\n",
      "\n",
      "Move (1, 0) from (3, 4) to (4, 4)\n",
      "Move (-1, 0) from (3, 2) to (2, 2)\n",
      "Move (-1, 0) from (2, 2) to (1, 2)\n",
      "Move (0, 1) from (1, 2) to (1, 3)\n",
      "Move (0, -1) from (0, 3) to (0, 2)\n",
      "Move (-1, 0) from (3, 3) to (2, 3)\n",
      "Move (0, -1) from (6, 5) to (6, 4)\n",
      "Move (-1, 0) from (7, 3) to (6, 3)\n",
      "Move (1, 0) from (0, 3) to (1, 3)\n",
      "Move (1, 0) from (1, 3) to (2, 3)\n",
      "Move (0, 1) from (3, 2) to (3, 3)\n",
      "Move (0, 1) from (3, 3) to (3, 4)\n",
      "Move (-1, 0) from (6, 4) to (5, 4)\n"
     ]
    }
   ],
   "source": [
    "# reasonable attempt!\n",
    "print(solver.queue[0])"
   ]
  },
  {
   "cell_type": "code",
   "execution_count": null,
   "metadata": {},
   "outputs": [],
   "source": []
  },
  {
   "cell_type": "code",
   "execution_count": 352,
   "metadata": {},
   "outputs": [
    {
     "data": {
      "text/plain": [
       "301"
      ]
     },
     "execution_count": 352,
     "metadata": {},
     "output_type": "execute_result"
    }
   ],
   "source": [
    "# fails\n",
    "solver = Solver(PriorityQueue(f_priority_dlsb), node)\n",
    "solver.solve(max_seconds=1)"
   ]
  },
  {
   "cell_type": "code",
   "execution_count": 353,
   "metadata": {},
   "outputs": [
    {
     "name": "stdout",
     "output_type": "stream",
     "text": [
      "█ █ █ █ █ █ █ █ █ █ █ █\n",
      "█ █ █ █ █ █ █ █ █ █ █ █\n",
      "█ █ █ █ █   █ █ █ █ █ █\n",
      "█ █ █   ·         █ █ █\n",
      "█ █ █   █   □ · □   █ █\n",
      "█ █ · □ □   ■ ·     █ █\n",
      "█ █     □   █ █ █ █ █ █\n",
      "█ █   █ █   █ █ █ █ █ █\n",
      "█ █ · ○     █ █ █ █ █ █\n",
      "█ █ █ █ █ █ █ █ █ █ █ █\n",
      "█ █ █ █ █ █ █ █ █ █ █ █\n",
      "\n",
      "to\n",
      "\n",
      "█ █ █ █ █ █ █ █ █ █ █ █\n",
      "█ █ █ █ █ █ █ █ █ █ █ █\n",
      "█ █ █ █ █   █ █ █ █ █ █\n",
      "█ █ █   ■         █ █ █\n",
      "█ █ █   █   □ ●     █ █\n",
      "█ █ ·       ■ ■     █ █\n",
      "█ █         █ █ █ █ █ █\n",
      "█ █ □ █ █   █ █ █ █ █ █\n",
      "█ █ ■       █ █ █ █ █ █\n",
      "█ █ █ █ █ █ █ █ █ █ █ █\n",
      "█ █ █ █ █ █ █ █ █ █ █ █\n",
      "\n",
      "via\n",
      "\n",
      "Move (1, 0) from (3, 4) to (4, 4)\n",
      "Move (-1, 0) from (3, 2) to (2, 2)\n",
      "Move (-1, 0) from (2, 2) to (1, 2)\n",
      "Move (0, 1) from (1, 2) to (1, 3)\n",
      "Move (0, -1) from (0, 3) to (0, 2)\n",
      "Move (-1, 0) from (3, 3) to (2, 3)\n",
      "Move (0, -1) from (0, 2) to (0, 1)\n",
      "Move (0, -1) from (6, 5) to (6, 4)\n",
      "Move (-1, 0) from (7, 3) to (6, 3)\n",
      "Move (1, 0) from (0, 3) to (1, 3)\n",
      "Move (0, -1) from (1, 5) to (1, 4)\n",
      "Move (0, -1) from (1, 4) to (1, 3)\n",
      "Move (1, 0) from (1, 3) to (2, 3)\n",
      "Move (-1, 0) from (2, 2) to (1, 2)\n",
      "Move (0, 1) from (3, 2) to (3, 3)\n",
      "Move (0, 1) from (3, 3) to (3, 4)\n",
      "Move (-1, 0) from (4, 5) to (3, 5)\n",
      "Move (0, -1) from (0, 3) to (0, 2)\n",
      "Move (-1, 0) from (6, 4) to (5, 4)\n"
     ]
    }
   ],
   "source": [
    "# reasonable enough attempt\n",
    "print(solver.queue[0])"
   ]
  },
  {
   "cell_type": "markdown",
   "metadata": {},
   "source": [
    "## Bottom"
   ]
  },
  {
   "cell_type": "code",
   "execution_count": null,
   "metadata": {},
   "outputs": [],
   "source": [
    "solver.step()\n",
    "print(len(solver.queue))\n",
    "print()\n",
    "print(solver.queue.get_str_end_nodes())"
   ]
  },
  {
   "cell_type": "code",
   "execution_count": 289,
   "metadata": {},
   "outputs": [],
   "source": [
    "from src.heuristics import check_for_stuck_boxes"
   ]
  },
  {
   "cell_type": "code",
   "execution_count": 303,
   "metadata": {},
   "outputs": [
    {
     "name": "stdout",
     "output_type": "stream",
     "text": [
      "█ █ █ █ █ █ █\n",
      "█ █ █ █ █ █ █\n",
      "█ █ █ ■ · █ █\n",
      "█ █   ○   █ █\n",
      "█ █ █   █ █ █\n",
      "█ █ █ █ █ █ █\n",
      "█ █ █ █ █ █ █\n"
     ]
    }
   ],
   "source": [
    "node = SokobanNode({(0, 0), (0, 1), (1, 0), (1, 1), (-1, 0), (0, -1)}, {(0, 0), (0, 1)}, {(1, 1), (0, 1)}, (0, 0))\n",
    "print(node)"
   ]
  },
  {
   "cell_type": "code",
   "execution_count": 304,
   "metadata": {},
   "outputs": [
    {
     "data": {
      "text/plain": [
       "False"
      ]
     },
     "execution_count": 304,
     "metadata": {},
     "output_type": "execute_result"
    }
   ],
   "source": [
    "check_for_stuck_boxes(node)"
   ]
  },
  {
   "cell_type": "code",
   "execution_count": null,
   "metadata": {},
   "outputs": [],
   "source": []
  }
 ],
 "metadata": {
  "kernelspec": {
   "display_name": "Python 3 (ipykernel)",
   "language": "python",
   "name": "python3"
  },
  "language_info": {
   "codemirror_mode": {
    "name": "ipython",
    "version": 3
   },
   "file_extension": ".py",
   "mimetype": "text/x-python",
   "name": "python",
   "nbconvert_exporter": "python",
   "pygments_lexer": "ipython3",
   "version": "3.12.6"
  }
 },
 "nbformat": 4,
 "nbformat_minor": 4
}
