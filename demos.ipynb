{
 "cells": [
  {
   "cell_type": "code",
   "execution_count": 24,
   "metadata": {},
   "outputs": [
    {
     "name": "stdout",
     "output_type": "stream",
     "text": [
      "Python 3.12.6\n"
     ]
    }
   ],
   "source": [
    "# need python 3.12+ for typing\n",
    "!python -V"
   ]
  },
  {
   "cell_type": "code",
   "execution_count": 25,
   "metadata": {},
   "outputs": [
    {
     "name": "stdout",
     "output_type": "stream",
     "text": [
      "The autoreload extension is already loaded. To reload it, use:\n",
      "  %reload_ext autoreload\n"
     ]
    }
   ],
   "source": [
    "%load_ext autoreload\n",
    "%autoreload 2"
   ]
  },
  {
   "cell_type": "code",
   "execution_count": 26,
   "metadata": {},
   "outputs": [],
   "source": [
    "from src.types import Self, Point, Points, Vector, Push, Pushes\n",
    "from src.board import Board\n",
    "from src.solver import BoardHistory, Solver, print_solve_sequence"
   ]
  },
  {
   "cell_type": "markdown",
   "metadata": {},
   "source": [
    "**Solver to do**\n",
    "- Clean up the solver\n",
    "    - Make the solver have an internal solving state that it updates during solving\n",
    "    - Have a solve_step() method as the \"core\" thing, with a solve_run() that loops things\n",
    "    - You can specify a timeout or max steps on the solve_run()\n",
    "    - And maybe also the option to print debug stuff with rate limiting?\n",
    "- Create constructors for Board objects, ideally something interactive! Like, a lightweight web app that serves as an editor.\n",
    "- Come up with a format for putting problems in jsons\n",
    "- Get the solver working on the \"11\" problem\n",
    "    - \"Working\" = \"In well under 1 second\"\n",
    "    - Maybe start with a few other demo puzzles\n",
    "    - Might want the ability to create heuristics? Like by subclassing to specify how the queue is implemented.\n",
    "    - So replace the queue list with a generic queue object (priority queue?...) that different solver implement differently.\n",
    "    - Ex. heuristic: past a depth of len(board.boxes)?\n",
    "    - See import queue; queue.PriorityQueue\n",
    "- Create unit tests (runs solver on some test problems)\n",
    "\n",
    "**Generator to do**\n",
    "- Learn the papers\n",
    "    - https://citeseerx.ist.psu.edu/document?repid=rep1&type=pdf&doi=af6c8e280946f019c7f632c8281a35ddf1fdc9b0\n",
    "    - https://ianparberry.com/techreports/LARC-2011-01.pdf\n",
    "    - Also do a bit more literature search\n",
    "- Start implementing techniques"
   ]
  },
  {
   "cell_type": "markdown",
   "metadata": {},
   "source": [
    "## Basic demos"
   ]
  },
  {
   "cell_type": "code",
   "execution_count": 27,
   "metadata": {},
   "outputs": [
    {
     "name": "stdout",
     "output_type": "stream",
     "text": [
      "Player component:  {(0, 1), (0, 0)}\n",
      "Avaiable pushes:  [((0, 1), (0, 1), (0, 2), (0, 3))]\n",
      "Is solved?:  True\n"
     ]
    }
   ],
   "source": [
    "# demo\n",
    "airs = {(0, 0), (0, 1), (0, 2), (0, 3), (1, 3)}\n",
    "boxes = {(0, 2)}\n",
    "goals = {(0, 2)}\n",
    "player = (0, 0)\n",
    "\n",
    "b = Board(airs, boxes, goals, player)\n",
    "print('Player component: ', b.player_component)\n",
    "print('Avaiable pushes: ', b.possible_pushes)\n",
    "print('Is solved?: ', b.solved)"
   ]
  },
  {
   "cell_type": "code",
   "execution_count": 28,
   "metadata": {},
   "outputs": [
    {
     "name": "stdout",
     "output_type": "stream",
     "text": [
      "Board({(0, 1), (0, 2), (0, 0), (0, 3), (1, 3)}, {(0, 3)}, {(0, 2)}, (0, 2))\n",
      "Is solved?:  False\n"
     ]
    }
   ],
   "source": [
    "push = ((0, 1), (0, 1), (0, 2), (0, 3))\n",
    "b2 = b.push(push)\n",
    "print(repr(b2))\n",
    "print('Is solved?: ', b2.solved)"
   ]
  },
  {
   "cell_type": "code",
   "execution_count": 29,
   "metadata": {},
   "outputs": [
    {
     "data": {
      "text/plain": [
       "True"
      ]
     },
     "execution_count": 29,
     "metadata": {},
     "output_type": "execute_result"
    }
   ],
   "source": [
    "b == b"
   ]
  },
  {
   "cell_type": "code",
   "execution_count": 30,
   "metadata": {},
   "outputs": [
    {
     "data": {
      "text/plain": [
       "False"
      ]
     },
     "execution_count": 30,
     "metadata": {},
     "output_type": "execute_result"
    }
   ],
   "source": [
    "b == b2"
   ]
  },
  {
   "cell_type": "code",
   "execution_count": 31,
   "metadata": {},
   "outputs": [
    {
     "data": {
      "text/plain": [
       "(1662409248336332781, -1887771198035335534)"
      ]
     },
     "execution_count": 31,
     "metadata": {},
     "output_type": "execute_result"
    }
   ],
   "source": [
    "hash(b), hash(b2)"
   ]
  },
  {
   "cell_type": "code",
   "execution_count": 32,
   "metadata": {},
   "outputs": [
    {
     "data": {
      "text/plain": [
       "True"
      ]
     },
     "execution_count": 32,
     "metadata": {},
     "output_type": "execute_result"
    }
   ],
   "source": [
    "# epic\n",
    "airs = {(0, 0), (0, 1), (0, 2), (0, 3), (1, 3)}\n",
    "boxes = {(0, 2)}\n",
    "goals = {(0, 2)}\n",
    "\n",
    "player1 = (0, 0)\n",
    "player2 = (0, 1)\n",
    "\n",
    "b1 = Board(airs, boxes, goals, player1)\n",
    "b2 = Board(airs, boxes, goals, player2)\n",
    "\n",
    "b1 == b2"
   ]
  },
  {
   "cell_type": "code",
   "execution_count": 33,
   "metadata": {},
   "outputs": [
    {
     "data": {
      "text/plain": [
       "(1662409248336332781, 1662409248336332781)"
      ]
     },
     "execution_count": 33,
     "metadata": {},
     "output_type": "execute_result"
    }
   ],
   "source": [
    "hash(b1), hash(b2)"
   ]
  },
  {
   "cell_type": "code",
   "execution_count": null,
   "metadata": {},
   "outputs": [],
   "source": []
  },
  {
   "cell_type": "code",
   "execution_count": 34,
   "metadata": {},
   "outputs": [
    {
     "data": {
      "text/plain": [
       "BoardHistory(Board({(0, 1), (0, 2), (0, 0)}, {(0, 2)}, {(0, 2)}, (0, 0)), [])"
      ]
     },
     "execution_count": 34,
     "metadata": {},
     "output_type": "execute_result"
    }
   ],
   "source": [
    "# trivial puzzle\n",
    "airs = {(0, 0), (0, 1), (0, 2)}\n",
    "boxes = {(0, 2)}\n",
    "goals = {(0, 2)}\n",
    "player = (0, 0)\n",
    "\n",
    "board = Board(airs, boxes, goals, player)\n",
    "solver = Solver(board)\n",
    "solver.solve()"
   ]
  },
  {
   "cell_type": "code",
   "execution_count": 35,
   "metadata": {},
   "outputs": [
    {
     "name": "stdout",
     "output_type": "stream",
     "text": [
      "█ █ █ █ █\n",
      "█ █ █ █ █\n",
      "█ █ ■ █ █\n",
      "█ █   █ █\n",
      "█ █ x █ █\n",
      "█ █ █ █ █\n",
      "█ █ █ █ █\n"
     ]
    }
   ],
   "source": [
    "print(board)"
   ]
  },
  {
   "cell_type": "code",
   "execution_count": 36,
   "metadata": {},
   "outputs": [
    {
     "data": {
      "text/plain": [
       "BoardHistory(Board({(0, 1), (0, 2), (0, 0)}, {(0, 2)}, {(0, 2)}, (0, 1)), [((0, 1), (0, 0), (0, 1), (0, 2))])"
      ]
     },
     "execution_count": 36,
     "metadata": {},
     "output_type": "execute_result"
    }
   ],
   "source": [
    "# one-push puzzle\n",
    "airs = {(0, 0), (0, 1), (0, 2)}\n",
    "boxes = {(0, 1)}\n",
    "goals = {(0, 2)}\n",
    "player = (0, 0)\n",
    "\n",
    "board = Board(airs, boxes, goals, player)\n",
    "solver = Solver(board)\n",
    "solver.solve()"
   ]
  },
  {
   "cell_type": "code",
   "execution_count": 37,
   "metadata": {},
   "outputs": [
    {
     "name": "stdout",
     "output_type": "stream",
     "text": [
      "█ █ █ █ █\n",
      "█ █ █ █ █\n",
      "█ █ · █ █\n",
      "█ █ □ █ █\n",
      "█ █ x █ █\n",
      "█ █ █ █ █\n",
      "█ █ █ █ █\n"
     ]
    }
   ],
   "source": [
    "print(board)"
   ]
  },
  {
   "cell_type": "code",
   "execution_count": 38,
   "metadata": {},
   "outputs": [
    {
     "data": {
      "text/plain": [
       "[((1, 0), (1, 1), (2, 1), (3, 1)),\n",
       " ((0, 1), (2, 1), (2, 2), (2, 3)),\n",
       " ((0, 1), (1, 1), (1, 2), (1, 3))]"
      ]
     },
     "execution_count": 38,
     "metadata": {},
     "output_type": "execute_result"
    }
   ],
   "source": [
    "# simple puzzle\n",
    "airs = {\n",
    "    (1, 3), (2, 3), (3, 3),\n",
    "    (1, 2), (2, 2), (3, 2),\n",
    "    (1, 1), (2, 1), (3, 1),\n",
    "}\n",
    "boxes = {(1, 2), (2, 1), (2, 2)}\n",
    "goals = {(1, 3), (3, 1), (2, 3)}\n",
    "player = (1, 1)\n",
    "\n",
    "board = Board(airs, boxes, goals, player)\n",
    "solver = Solver(board)\n",
    "boardhistory = solver.solve()\n",
    "boardhistory.pushes"
   ]
  },
  {
   "cell_type": "code",
   "execution_count": 39,
   "metadata": {},
   "outputs": [
    {
     "name": "stdout",
     "output_type": "stream",
     "text": [
      "█ █ █ █ █ █ █\n",
      "█ █ █ █ █ █ █\n",
      "█ █ · ·   █ █\n",
      "█ █ □ □   █ █\n",
      "█ █ x □ · █ █\n",
      "█ █ █ █ █ █ █\n",
      "█ █ █ █ █ █ █\n"
     ]
    }
   ],
   "source": [
    "print(board)"
   ]
  },
  {
   "cell_type": "code",
   "execution_count": 40,
   "metadata": {},
   "outputs": [
    {
     "name": "stdout",
     "output_type": "stream",
     "text": [
      "█ █ █ █ █ █ █\n",
      "█ █ █ █ █ █ █\n",
      "█ █ · ·   █ █\n",
      "█ █ □ □   █ █\n",
      "█ █ x □ · █ █\n",
      "█ █ █ █ █ █ █\n",
      "█ █ █ █ █ █ █\n",
      "\n",
      "█ █ █ █ █ █ █\n",
      "█ █ █ █ █ █ █\n",
      "█ █ · ·   █ █\n",
      "█ █ □ □   █ █\n",
      "█ █   x ■ █ █\n",
      "█ █ █ █ █ █ █\n",
      "█ █ █ █ █ █ █\n",
      "\n",
      "█ █ █ █ █ █ █\n",
      "█ █ █ █ █ █ █\n",
      "█ █ · ■   █ █\n",
      "█ █ □ x   █ █\n",
      "█ █     ■ █ █\n",
      "█ █ █ █ █ █ █\n",
      "█ █ █ █ █ █ █\n",
      "\n",
      "█ █ █ █ █ █ █\n",
      "█ █ █ █ █ █ █\n",
      "█ █ ■ ■   █ █\n",
      "█ █ x     █ █\n",
      "█ █     ■ █ █\n",
      "█ █ █ █ █ █ █\n",
      "█ █ █ █ █ █ █\n"
     ]
    }
   ],
   "source": [
    "print_solve_sequence(board, boardhistory.pushes)"
   ]
  },
  {
   "cell_type": "markdown",
   "metadata": {},
   "source": [
    "## Real puzzles"
   ]
  },
  {
   "cell_type": "markdown",
   "metadata": {},
   "source": [
    "https://linusakesson.net/games/autosokoban/?v=1&seed=1565730199&level=1"
   ]
  },
  {
   "cell_type": "code",
   "execution_count": 41,
   "metadata": {},
   "outputs": [
    {
     "name": "stdout",
     "output_type": "stream",
     "text": [
      "█ █ █ █ █ █ █ █ █ █ █ █ █\n",
      "█ █ █ █ █ █ █ █ █ █ █ █ █\n",
      "█ █       █ █ █ █ █ █ █ █\n",
      "█ █   █ · █ █ █ █ █ █ █ █\n",
      "█ █   █   █ █ █ █ █ █ █ █\n",
      "█ █   █   █ █ █ █ █ █ █ █\n",
      "█ █       █           █ █\n",
      "█ █ █     █   █ █ █   █ █\n",
      "█ █   □ ■       █ █   █ █\n",
      "█ █ █   x █           █ █\n",
      "█ █ █ █ █ █       █ █ █ █\n",
      "█ █ █ █ █ █ █ █ █ █ █ █ █\n",
      "█ █ █ █ █ █ █ █ █ █ █ █ █\n"
     ]
    }
   ],
   "source": [
    "airs_arr = [\n",
    "    [1, 1, 1, 0, 0, 0, 0, 0, 0],\n",
    "    [1, 0, 1, 0, 0, 0, 0, 0, 0],\n",
    "    [1, 0, 1, 0, 0, 0, 0, 0, 0],\n",
    "    [1, 0, 1, 0, 0, 0, 0, 0, 0],\n",
    "    [1, 1, 1, 0, 1, 1, 1, 1, 1],\n",
    "    [0, 1, 1, 0, 1, 0, 0, 0, 1],\n",
    "    [1, 1, 1, 1, 1, 1, 0, 0, 1],\n",
    "    [0, 1, 1, 0, 1, 1, 1, 1, 1],\n",
    "    [0, 0, 0, 0, 1, 1, 1, 0, 0],\n",
    "]\n",
    "airs_arr = list(reversed(airs_arr))\n",
    "\n",
    "airs = set()\n",
    "for i in range(len(airs_arr[0])):\n",
    "    for j in range(len(airs_arr)):\n",
    "        if airs_arr[j][i] == 1:\n",
    "            airs.add((i+1, j+1))\n",
    "\n",
    "boxes = {(2, 3), (3, 3)}\n",
    "goals = {(3, 3), (3, 8)}\n",
    "player = (3, 2)\n",
    "\n",
    "board = Board(airs, boxes, goals, player)\n",
    "print(board)"
   ]
  },
  {
   "cell_type": "code",
   "execution_count": 42,
   "metadata": {},
   "outputs": [
    {
     "data": {
      "text/plain": [
       "BoardHistory(Board({(3, 4), (4, 3), (3, 7), (5, 4), (5, 1), (9, 2), (9, 5), (2, 2), (1, 6), (2, 5), (1, 3), (1, 9), (6, 2), (7, 1), (6, 5), (3, 3), (3, 9), (3, 6), (5, 3), (8, 2), (8, 5), (9, 4), (2, 4), (1, 5), (6, 1), (1, 8), (3, 2), (3, 5), (5, 2), (3, 8), (5, 5), (9, 3), (2, 3), (2, 9), (1, 7), (7, 2), (7, 5), (6, 3)}, {(3, 8), (3, 3)}, {(3, 8), (3, 3)}, (3, 7)), [((0, 1), (2, 2), (2, 3), (2, 4)), ((0, 1), (2, 3), (2, 4), (2, 5)), ((1, 0), (1, 5), (2, 5), (3, 5)), ((0, 1), (3, 4), (3, 5), (3, 6)), ((0, 1), (3, 5), (3, 6), (3, 7)), ((0, 1), (3, 6), (3, 7), (3, 8))])"
      ]
     },
     "execution_count": 42,
     "metadata": {},
     "output_type": "execute_result"
    }
   ],
   "source": [
    "solver = Solver(board)\n",
    "boardhistory = solver.solve()\n",
    "boardhistory"
   ]
  },
  {
   "cell_type": "code",
   "execution_count": 43,
   "metadata": {},
   "outputs": [
    {
     "name": "stdout",
     "output_type": "stream",
     "text": [
      "█ █ █ █ █ █ █ █ █ █ █ █ █\n",
      "█ █ █ █ █ █ █ █ █ █ █ █ █\n",
      "█ █       █ █ █ █ █ █ █ █\n",
      "█ █   █ · █ █ █ █ █ █ █ █\n",
      "█ █   █   █ █ █ █ █ █ █ █\n",
      "█ █   █   █ █ █ █ █ █ █ █\n",
      "█ █       █           █ █\n",
      "█ █ █     █   █ █ █   █ █\n",
      "█ █   □ ■       █ █   █ █\n",
      "█ █ █   x █           █ █\n",
      "█ █ █ █ █ █       █ █ █ █\n",
      "█ █ █ █ █ █ █ █ █ █ █ █ █\n",
      "█ █ █ █ █ █ █ █ █ █ █ █ █\n",
      "\n",
      "█ █ █ █ █ █ █ █ █ █ █ █ █\n",
      "█ █ █ █ █ █ █ █ █ █ █ █ █\n",
      "█ █       █ █ █ █ █ █ █ █\n",
      "█ █   █ · █ █ █ █ █ █ █ █\n",
      "█ █   █   █ █ █ █ █ █ █ █\n",
      "█ █   █   █ █ █ █ █ █ █ █\n",
      "█ █       █           █ █\n",
      "█ █ █ □   █   █ █ █   █ █\n",
      "█ █   x ■       █ █   █ █\n",
      "█ █ █     █           █ █\n",
      "█ █ █ █ █ █       █ █ █ █\n",
      "█ █ █ █ █ █ █ █ █ █ █ █ █\n",
      "█ █ █ █ █ █ █ █ █ █ █ █ █\n",
      "\n",
      "█ █ █ █ █ █ █ █ █ █ █ █ █\n",
      "█ █ █ █ █ █ █ █ █ █ █ █ █\n",
      "█ █       █ █ █ █ █ █ █ █\n",
      "█ █   █ · █ █ █ █ █ █ █ █\n",
      "█ █   █   █ █ █ █ █ █ █ █\n",
      "█ █   █   █ █ █ █ █ █ █ █\n",
      "█ █   □   █           █ █\n",
      "█ █ █ x   █   █ █ █   █ █\n",
      "█ █     ■       █ █   █ █\n",
      "█ █ █     █           █ █\n",
      "█ █ █ █ █ █       █ █ █ █\n",
      "█ █ █ █ █ █ █ █ █ █ █ █ █\n",
      "█ █ █ █ █ █ █ █ █ █ █ █ █\n",
      "\n",
      "█ █ █ █ █ █ █ █ █ █ █ █ █\n",
      "█ █ █ █ █ █ █ █ █ █ █ █ █\n",
      "█ █       █ █ █ █ █ █ █ █\n",
      "█ █   █ · █ █ █ █ █ █ █ █\n",
      "█ █   █   █ █ █ █ █ █ █ █\n",
      "█ █   █   █ █ █ █ █ █ █ █\n",
      "█ █   x □ █           █ █\n",
      "█ █ █     █   █ █ █   █ █\n",
      "█ █     ■       █ █   █ █\n",
      "█ █ █     █           █ █\n",
      "█ █ █ █ █ █       █ █ █ █\n",
      "█ █ █ █ █ █ █ █ █ █ █ █ █\n",
      "█ █ █ █ █ █ █ █ █ █ █ █ █\n",
      "\n",
      "█ █ █ █ █ █ █ █ █ █ █ █ █\n",
      "█ █ █ █ █ █ █ █ █ █ █ █ █\n",
      "█ █       █ █ █ █ █ █ █ █\n",
      "█ █   █ · █ █ █ █ █ █ █ █\n",
      "█ █   █   █ █ █ █ █ █ █ █\n",
      "█ █   █ □ █ █ █ █ █ █ █ █\n",
      "█ █     x █           █ █\n",
      "█ █ █     █   █ █ █   █ █\n",
      "█ █     ■       █ █   █ █\n",
      "█ █ █     █           █ █\n",
      "█ █ █ █ █ █       █ █ █ █\n",
      "█ █ █ █ █ █ █ █ █ █ █ █ █\n",
      "█ █ █ █ █ █ █ █ █ █ █ █ █\n",
      "\n",
      "█ █ █ █ █ █ █ █ █ █ █ █ █\n",
      "█ █ █ █ █ █ █ █ █ █ █ █ █\n",
      "█ █       █ █ █ █ █ █ █ █\n",
      "█ █   █ · █ █ █ █ █ █ █ █\n",
      "█ █   █ □ █ █ █ █ █ █ █ █\n",
      "█ █   █ x █ █ █ █ █ █ █ █\n",
      "█ █       █           █ █\n",
      "█ █ █     █   █ █ █   █ █\n",
      "█ █     ■       █ █   █ █\n",
      "█ █ █     █           █ █\n",
      "█ █ █ █ █ █       █ █ █ █\n",
      "█ █ █ █ █ █ █ █ █ █ █ █ █\n",
      "█ █ █ █ █ █ █ █ █ █ █ █ █\n",
      "\n",
      "█ █ █ █ █ █ █ █ █ █ █ █ █\n",
      "█ █ █ █ █ █ █ █ █ █ █ █ █\n",
      "█ █       █ █ █ █ █ █ █ █\n",
      "█ █   █ ■ █ █ █ █ █ █ █ █\n",
      "█ █   █ x █ █ █ █ █ █ █ █\n",
      "█ █   █   █ █ █ █ █ █ █ █\n",
      "█ █       █           █ █\n",
      "█ █ █     █   █ █ █   █ █\n",
      "█ █     ■       █ █   █ █\n",
      "█ █ █     █           █ █\n",
      "█ █ █ █ █ █       █ █ █ █\n",
      "█ █ █ █ █ █ █ █ █ █ █ █ █\n",
      "█ █ █ █ █ █ █ █ █ █ █ █ █\n"
     ]
    }
   ],
   "source": [
    "print_solve_sequence(board, boardhistory.pushes)"
   ]
  },
  {
   "cell_type": "code",
   "execution_count": null,
   "metadata": {},
   "outputs": [],
   "source": []
  },
  {
   "cell_type": "markdown",
   "metadata": {},
   "source": [
    "https://linusakesson.net/games/autosokoban/?v=1&seed=1565730199&level=11"
   ]
  },
  {
   "cell_type": "code",
   "execution_count": 44,
   "metadata": {},
   "outputs": [
    {
     "name": "stdout",
     "output_type": "stream",
     "text": [
      "█ █ █ █ █ █ █ █ █ █ █ █\n",
      "█ █ █ █ █ █ █ █ █ █ █ █\n",
      "█ █ █ █ █   █ █ █ █ █ █\n",
      "█ █ █   ·         █ █ █\n",
      "█ █ █   █   □ · □   █ █\n",
      "█ █ · □ □   ■ ·     █ █\n",
      "█ █     □   █ █ █ █ █ █\n",
      "█ █   █ █   █ █ █ █ █ █\n",
      "█ █ · x     █ █ █ █ █ █\n",
      "█ █ █ █ █ █ █ █ █ █ █ █\n",
      "█ █ █ █ █ █ █ █ █ █ █ █\n"
     ]
    }
   ],
   "source": [
    "airs = {\n",
    "    (4, 7),\n",
    "    (2, 6), (3, 6), (4, 6), (5, 6), (6, 6), (7, 6),\n",
    "    (2, 5), (4, 5), (5, 5), (6, 5), (7, 5), (8, 5),\n",
    "    (1, 4), (2, 4), (3, 4), (4, 4), (5, 4), (6, 4), (7, 4), (8, 4),\n",
    "    (1, 3), (2, 3), (3, 3), (4, 3),\n",
    "    (1, 2), (4, 2),\n",
    "    (1, 1), (2, 1), (3, 1), (4, 1),\n",
    "}\n",
    "boxes = {(3, 3), (3, 4), (2, 4), (5, 4), (5, 5), (7, 5)}\n",
    "goals = {(1, 1), (1, 4), (3, 6), (5, 4), (6, 4), (6, 5)}\n",
    "player = (2, 1)\n",
    "\n",
    "board = Board(airs, boxes, goals, player)\n",
    "print(board)"
   ]
  },
  {
   "cell_type": "code",
   "execution_count": null,
   "metadata": {},
   "outputs": [],
   "source": [
    "# unable to find the soln in reasonable time\n",
    "solver = Solver(board)\n",
    "boardhistory = solver.solve()\n",
    "boardhistory.pushes"
   ]
  },
  {
   "cell_type": "code",
   "execution_count": null,
   "metadata": {},
   "outputs": [],
   "source": [
    "print_solve_sequence(board, boardhistory.pushes)"
   ]
  },
  {
   "cell_type": "markdown",
   "metadata": {},
   "source": [
    "## Bottom"
   ]
  },
  {
   "cell_type": "markdown",
   "metadata": {},
   "source": []
  }
 ],
 "metadata": {
  "kernelspec": {
   "display_name": "Python 3",
   "language": "python",
   "name": "python3"
  },
  "language_info": {
   "codemirror_mode": {
    "name": "ipython",
    "version": 3
   },
   "file_extension": ".py",
   "mimetype": "text/x-python",
   "name": "python",
   "nbconvert_exporter": "python",
   "pygments_lexer": "ipython3",
   "version": "3.12.6"
  }
 },
 "nbformat": 4,
 "nbformat_minor": 2
}
