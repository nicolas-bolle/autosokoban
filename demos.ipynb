{
 "cells": [
  {
   "cell_type": "code",
   "execution_count": 1,
   "metadata": {},
   "outputs": [
    {
     "name": "stdout",
     "output_type": "stream",
     "text": [
      "Python 3.12.6\n"
     ]
    }
   ],
   "source": [
    "# need python 3.12+ for typing\n",
    "!python -V"
   ]
  },
  {
   "cell_type": "code",
   "execution_count": 2,
   "metadata": {},
   "outputs": [],
   "source": [
    "%load_ext autoreload\n",
    "%autoreload 2"
   ]
  },
  {
   "cell_type": "code",
   "execution_count": 3,
   "metadata": {},
   "outputs": [],
   "source": [
    "from src.sokoban_solver import SokobanEdge, SokobanNode, SokobanSolver"
   ]
  },
  {
   "cell_type": "markdown",
   "metadata": {},
   "source": [
    "**Solver to do**\n",
    "- Clean up the solver\n",
    "    - Make the solver have an internal solving state that it updates during solving\n",
    "    - Have a solve_step() method as the \"core\" thing, with a solve_run() that loops things\n",
    "    - You can specify a timeout or max steps on the solve_run()\n",
    "    - And maybe also the option to print debug stuff with rate limiting?\n",
    "- Create constructors for Board objects, ideally something interactive! Like, a lightweight web app that serves as an editor.\n",
    "- Come up with a format for putting problems in jsons\n",
    "- Get the solver working on the \"11\" problem\n",
    "    - \"Working\" = \"In well under 1 second\"\n",
    "    - Maybe start with a few other demo puzzles\n",
    "    - Might want the ability to create heuristics? Like by subclassing to specify how the queue is implemented.\n",
    "    - So replace the queue list with a generic queue object (priority queue?...) that different solver implement differently.\n",
    "    - Ex. heuristic: past a depth of len(board.boxes)?\n",
    "    - See import queue; queue.PriorityQueue\n",
    "- Create unit tests (runs solver on some test problems)\n",
    "\n",
    "**Generator to do**\n",
    "- Learn the papers\n",
    "    - https://citeseerx.ist.psu.edu/document?repid=rep1&type=pdf&doi=af6c8e280946f019c7f632c8281a35ddf1fdc9b0\n",
    "    - https://ianparberry.com/techreports/LARC-2011-01.pdf\n",
    "    - Also do a bit more literature search\n",
    "- Start implementing techniques"
   ]
  },
  {
   "cell_type": "markdown",
   "metadata": {},
   "source": [
    "## Basic demos"
   ]
  },
  {
   "cell_type": "code",
   "execution_count": 4,
   "metadata": {},
   "outputs": [
    {
     "name": "stdout",
     "output_type": "stream",
     "text": [
      "Player component:  {(0, 1), (0, 0)}\n",
      "Avaiable pushes:  [SokobanEdge((0, 1), (0, 1), (0, 2), (0, 3))]\n",
      "Is solved?:  True\n",
      "█ █ █ █ █ █\n",
      "█ █ █ █ █ █\n",
      "█ █     █ █\n",
      "█ █ ■ █ █ █\n",
      "█ █   █ █ █\n",
      "█ █ ○ █ █ █\n",
      "█ █ █ █ █ █\n",
      "█ █ █ █ █ █\n"
     ]
    }
   ],
   "source": [
    "# demo\n",
    "airs = {(0, 0), (0, 1), (0, 2), (0, 3), (1, 3)}\n",
    "boxes = {(0, 2)}\n",
    "goals = {(0, 2)}\n",
    "player = (0, 0)\n",
    "\n",
    "node1 = SokobanNode(airs, boxes, goals, player)\n",
    "print('Player component: ', node1.player_component)\n",
    "print('Avaiable pushes: ', node1.edges)\n",
    "print('Is solved?: ', node1.solved)\n",
    "\n",
    "print(node1)"
   ]
  },
  {
   "cell_type": "code",
   "execution_count": 5,
   "metadata": {},
   "outputs": [
    {
     "name": "stdout",
     "output_type": "stream",
     "text": [
      "Is solved?:  False\n",
      "█ █ █ █ █ █\n",
      "█ █ █ █ █ █\n",
      "█ █ □   █ █\n",
      "█ █ ● █ █ █\n",
      "█ █   █ █ █\n",
      "█ █   █ █ █\n",
      "█ █ █ █ █ █\n",
      "█ █ █ █ █ █\n"
     ]
    }
   ],
   "source": [
    "edge = SokobanEdge((0, 1), (0, 1), (0, 2), (0, 3))\n",
    "node2 = node1 + edge\n",
    "print('Is solved?: ', node2.solved)\n",
    "print(node2)"
   ]
  },
  {
   "cell_type": "code",
   "execution_count": 6,
   "metadata": {},
   "outputs": [
    {
     "data": {
      "text/plain": [
       "True"
      ]
     },
     "execution_count": 6,
     "metadata": {},
     "output_type": "execute_result"
    }
   ],
   "source": [
    "node1 == node1"
   ]
  },
  {
   "cell_type": "code",
   "execution_count": 7,
   "metadata": {},
   "outputs": [
    {
     "data": {
      "text/plain": [
       "False"
      ]
     },
     "execution_count": 7,
     "metadata": {},
     "output_type": "execute_result"
    }
   ],
   "source": [
    "node1 == node2"
   ]
  },
  {
   "cell_type": "code",
   "execution_count": 8,
   "metadata": {},
   "outputs": [
    {
     "data": {
      "text/plain": [
       "True"
      ]
     },
     "execution_count": 8,
     "metadata": {},
     "output_type": "execute_result"
    }
   ],
   "source": [
    "# epic\n",
    "airs = {(0, 0), (0, 1), (0, 2), (0, 3), (1, 3)}\n",
    "boxes = {(0, 2)}\n",
    "goals = {(0, 2)}\n",
    "\n",
    "player1 = (0, 0)\n",
    "player2 = (0, 1)\n",
    "\n",
    "node3 = SokobanNode(airs, boxes, goals, player1)\n",
    "node4 = SokobanNode(airs, boxes, goals, player2)\n",
    "\n",
    "node3 == node4"
   ]
  },
  {
   "cell_type": "code",
   "execution_count": 9,
   "metadata": {},
   "outputs": [
    {
     "data": {
      "text/plain": [
       "200"
      ]
     },
     "execution_count": 9,
     "metadata": {},
     "output_type": "execute_result"
    }
   ],
   "source": [
    "# trivial puzzle\n",
    "airs = {(0, 0), (0, 1), (0, 2)}\n",
    "boxes = {(0, 2)}\n",
    "goals = {(0, 2)}\n",
    "player = (0, 0)\n",
    "\n",
    "node = SokobanNode(airs, boxes, goals, player)\n",
    "solver = SokobanSolver(node)\n",
    "solver.solve()"
   ]
  },
  {
   "cell_type": "code",
   "execution_count": 10,
   "metadata": {},
   "outputs": [
    {
     "name": "stdout",
     "output_type": "stream",
     "text": [
      "█ █ █ █ █\n",
      "█ █ █ █ █\n",
      "█ █ ■ █ █\n",
      "█ █   █ █\n",
      "█ █ ○ █ █\n",
      "█ █ █ █ █\n",
      "█ █ █ █ █\n",
      "\n",
      "with no moves\n"
     ]
    }
   ],
   "source": [
    "print(solver.solution)"
   ]
  },
  {
   "cell_type": "code",
   "execution_count": 11,
   "metadata": {},
   "outputs": [
    {
     "data": {
      "text/plain": [
       "200"
      ]
     },
     "execution_count": 11,
     "metadata": {},
     "output_type": "execute_result"
    }
   ],
   "source": [
    "# one-push puzzle\n",
    "airs = {(0, 0), (0, 1), (0, 2)}\n",
    "boxes = {(0, 1)}\n",
    "goals = {(0, 2)}\n",
    "player = (0, 0)\n",
    "\n",
    "node = SokobanNode(airs, boxes, goals, player)\n",
    "solver = SokobanSolver(node)\n",
    "solver.solve()"
   ]
  },
  {
   "cell_type": "code",
   "execution_count": 12,
   "metadata": {},
   "outputs": [
    {
     "name": "stdout",
     "output_type": "stream",
     "text": [
      "█ █ █ █ █\n",
      "█ █ █ █ █\n",
      "█ █ · █ █\n",
      "█ █ □ █ █\n",
      "█ █ ○ █ █\n",
      "█ █ █ █ █\n",
      "█ █ █ █ █\n",
      "\n",
      "to\n",
      "\n",
      "█ █ █ █ █\n",
      "█ █ █ █ █\n",
      "█ █ ■ █ █\n",
      "█ █ ○ █ █\n",
      "█ █   █ █\n",
      "█ █ █ █ █\n",
      "█ █ █ █ █\n",
      "\n",
      "via\n",
      "\n",
      "Move (0, 1) from (0, 0) to (0, 1)\n"
     ]
    }
   ],
   "source": [
    "print(solver.solution)"
   ]
  },
  {
   "cell_type": "code",
   "execution_count": 13,
   "metadata": {},
   "outputs": [
    {
     "data": {
      "text/plain": [
       "200"
      ]
     },
     "execution_count": 13,
     "metadata": {},
     "output_type": "execute_result"
    }
   ],
   "source": [
    "# simple puzzle\n",
    "airs = {\n",
    "    (1, 3), (2, 3), (3, 3),\n",
    "    (1, 2), (2, 2), (3, 2),\n",
    "    (1, 1), (2, 1), (3, 1),\n",
    "}\n",
    "boxes = {(1, 2), (2, 1), (2, 2)}\n",
    "goals = {(1, 3), (3, 1), (2, 3)}\n",
    "player = (1, 1)\n",
    "\n",
    "node = SokobanNode(airs, boxes, goals, player)\n",
    "solver = SokobanSolver(node)\n",
    "solver.solve()"
   ]
  },
  {
   "cell_type": "code",
   "execution_count": 14,
   "metadata": {},
   "outputs": [
    {
     "name": "stdout",
     "output_type": "stream",
     "text": [
      "█ █ █ █ █ █ █\n",
      "█ █ █ █ █ █ █\n",
      "█ █ · ·   █ █\n",
      "█ █ □ □   █ █\n",
      "█ █ ○ □ · █ █\n",
      "█ █ █ █ █ █ █\n",
      "█ █ █ █ █ █ █\n",
      "\n",
      "to\n",
      "\n",
      "█ █ █ █ █ █ █\n",
      "█ █ █ █ █ █ █\n",
      "█ █ ■ ■   █ █\n",
      "█ █   ○   █ █\n",
      "█ █     ■ █ █\n",
      "█ █ █ █ █ █ █\n",
      "█ █ █ █ █ █ █\n",
      "\n",
      "via\n",
      "\n",
      "Move (0, 1) from (1, 1) to (1, 2)\n",
      "Move (1, 0) from (1, 1) to (2, 1)\n",
      "Move (0, 1) from (2, 1) to (2, 2)\n"
     ]
    }
   ],
   "source": [
    "print(solver.solution)"
   ]
  },
  {
   "cell_type": "markdown",
   "metadata": {},
   "source": [
    "## Real puzzles"
   ]
  },
  {
   "cell_type": "markdown",
   "metadata": {},
   "source": [
    "https://linusakesson.net/games/autosokoban/?v=1&seed=1565730199&level=1"
   ]
  },
  {
   "cell_type": "code",
   "execution_count": 15,
   "metadata": {},
   "outputs": [
    {
     "data": {
      "text/plain": [
       "200"
      ]
     },
     "execution_count": 15,
     "metadata": {},
     "output_type": "execute_result"
    }
   ],
   "source": [
    "airs_arr = [\n",
    "    [1, 1, 1, 0, 0, 0, 0, 0, 0],\n",
    "    [1, 0, 1, 0, 0, 0, 0, 0, 0],\n",
    "    [1, 0, 1, 0, 0, 0, 0, 0, 0],\n",
    "    [1, 0, 1, 0, 0, 0, 0, 0, 0],\n",
    "    [1, 1, 1, 0, 1, 1, 1, 1, 1],\n",
    "    [0, 1, 1, 0, 1, 0, 0, 0, 1],\n",
    "    [1, 1, 1, 1, 1, 1, 0, 0, 1],\n",
    "    [0, 1, 1, 0, 1, 1, 1, 1, 1],\n",
    "    [0, 0, 0, 0, 1, 1, 1, 0, 0],\n",
    "]\n",
    "airs_arr = list(reversed(airs_arr))\n",
    "\n",
    "airs = set()\n",
    "for i in range(len(airs_arr[0])):\n",
    "    for j in range(len(airs_arr)):\n",
    "        if airs_arr[j][i] == 1:\n",
    "            airs.add((i+1, j+1))\n",
    "\n",
    "boxes = {(2, 3), (3, 3)}\n",
    "goals = {(3, 3), (3, 8)}\n",
    "player = (3, 2)\n",
    "\n",
    "node = SokobanNode(airs, boxes, goals, player)\n",
    "solver = SokobanSolver(node)\n",
    "solver.solve()"
   ]
  },
  {
   "cell_type": "code",
   "execution_count": 16,
   "metadata": {},
   "outputs": [
    {
     "name": "stdout",
     "output_type": "stream",
     "text": [
      "█ █ █ █ █ █ █ █ █ █ █ █ █\n",
      "█ █ █ █ █ █ █ █ █ █ █ █ █\n",
      "█ █       █ █ █ █ █ █ █ █\n",
      "█ █   █ · █ █ █ █ █ █ █ █\n",
      "█ █   █   █ █ █ █ █ █ █ █\n",
      "█ █   █   █ █ █ █ █ █ █ █\n",
      "█ █       █           █ █\n",
      "█ █ █     █   █ █ █   █ █\n",
      "█ █   □ ■       █ █   █ █\n",
      "█ █ █   ○ █           █ █\n",
      "█ █ █ █ █ █       █ █ █ █\n",
      "█ █ █ █ █ █ █ █ █ █ █ █ █\n",
      "█ █ █ █ █ █ █ █ █ █ █ █ █\n",
      "\n",
      "to\n",
      "\n",
      "█ █ █ █ █ █ █ █ █ █ █ █ █\n",
      "█ █ █ █ █ █ █ █ █ █ █ █ █\n",
      "█ █       █ █ █ █ █ █ █ █\n",
      "█ █   █ ■ █ █ █ █ █ █ █ █\n",
      "█ █   █ ○ █ █ █ █ █ █ █ █\n",
      "█ █   █   █ █ █ █ █ █ █ █\n",
      "█ █       █           █ █\n",
      "█ █ █     █   █ █ █   █ █\n",
      "█ █     ■       █ █   █ █\n",
      "█ █ █     █           █ █\n",
      "█ █ █ █ █ █       █ █ █ █\n",
      "█ █ █ █ █ █ █ █ █ █ █ █ █\n",
      "█ █ █ █ █ █ █ █ █ █ █ █ █\n",
      "\n",
      "via\n",
      "\n",
      "Move (0, 1) from (2, 2) to (2, 3)\n",
      "Move (0, 1) from (2, 3) to (2, 4)\n",
      "Move (1, 0) from (1, 5) to (2, 5)\n",
      "Move (0, 1) from (3, 4) to (3, 5)\n",
      "Move (0, 1) from (3, 5) to (3, 6)\n",
      "Move (0, 1) from (3, 6) to (3, 7)\n"
     ]
    }
   ],
   "source": [
    "print(solver.solution)"
   ]
  },
  {
   "cell_type": "code",
   "execution_count": null,
   "metadata": {},
   "outputs": [],
   "source": []
  },
  {
   "cell_type": "markdown",
   "metadata": {},
   "source": [
    "https://linusakesson.net/games/autosokoban/?v=1&seed=1565730199&level=11"
   ]
  },
  {
   "cell_type": "code",
   "execution_count": 20,
   "metadata": {},
   "outputs": [],
   "source": [
    "airs = {\n",
    "    (4, 7),\n",
    "    (2, 6), (3, 6), (4, 6), (5, 6), (6, 6), (7, 6),\n",
    "    (2, 5), (4, 5), (5, 5), (6, 5), (7, 5), (8, 5),\n",
    "    (1, 4), (2, 4), (3, 4), (4, 4), (5, 4), (6, 4), (7, 4), (8, 4),\n",
    "    (1, 3), (2, 3), (3, 3), (4, 3),\n",
    "    (1, 2), (4, 2),\n",
    "    (1, 1), (2, 1), (3, 1), (4, 1),\n",
    "}\n",
    "boxes = {(3, 3), (3, 4), (2, 4), (5, 4), (5, 5), (7, 5)}\n",
    "goals = {(1, 1), (1, 4), (3, 6), (5, 4), (6, 4), (6, 5)}\n",
    "player = (2, 1)\n",
    "\n",
    "node = SokobanNode(airs, boxes, goals, player)\n",
    "solver = SokobanSolver(node)"
   ]
  },
  {
   "cell_type": "code",
   "execution_count": 21,
   "metadata": {},
   "outputs": [
    {
     "data": {
      "text/plain": [
       "301"
      ]
     },
     "execution_count": 21,
     "metadata": {},
     "output_type": "execute_result"
    }
   ],
   "source": [
    "# unable to find the solution in reasonable time\n",
    "solver.solve(max_seconds=10)"
   ]
  },
  {
   "cell_type": "code",
   "execution_count": 22,
   "metadata": {},
   "outputs": [
    {
     "data": {
      "text/plain": [
       "41896"
      ]
     },
     "execution_count": 22,
     "metadata": {},
     "output_type": "execute_result"
    }
   ],
   "source": [
    "solver.n_iters_overall"
   ]
  },
  {
   "cell_type": "code",
   "execution_count": 23,
   "metadata": {},
   "outputs": [
    {
     "data": {
      "text/plain": [
       "10.000865936279297"
      ]
     },
     "execution_count": 23,
     "metadata": {},
     "output_type": "execute_result"
    }
   ],
   "source": [
    "solver.n_seconds_overall"
   ]
  },
  {
   "cell_type": "markdown",
   "metadata": {},
   "source": [
    "## Bottom"
   ]
  },
  {
   "cell_type": "markdown",
   "metadata": {},
   "source": [
    "solver.step()\n",
    "print(len(solver.queue))\n",
    "print()\n",
    "print(solver.queue.get_str_end_nodes())"
   ]
  }
 ],
 "metadata": {
  "kernelspec": {
   "display_name": "Python 3 (ipykernel)",
   "language": "python",
   "name": "python3"
  },
  "language_info": {
   "codemirror_mode": {
    "name": "ipython",
    "version": 3
   },
   "file_extension": ".py",
   "mimetype": "text/x-python",
   "name": "python",
   "nbconvert_exporter": "python",
   "pygments_lexer": "ipython3",
   "version": "3.12.6"
  }
 },
 "nbformat": 4,
 "nbformat_minor": 4
}
