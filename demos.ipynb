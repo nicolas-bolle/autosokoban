{
 "cells": [
  {
   "cell_type": "code",
   "execution_count": 1,
   "metadata": {},
   "outputs": [
    {
     "name": "stdout",
     "output_type": "stream",
     "text": [
      "Python 3.12.6\n"
     ]
    }
   ],
   "source": [
    "# need python 3.12+ for typing\n",
    "!python -V"
   ]
  },
  {
   "cell_type": "code",
   "execution_count": 2,
   "metadata": {},
   "outputs": [],
   "source": [
    "%load_ext autoreload\n",
    "%autoreload 2"
   ]
  },
  {
   "cell_type": "code",
   "execution_count": 54,
   "metadata": {},
   "outputs": [],
   "source": [
    "from src.sokoban_solver import (\n",
    "    SokobanEdge,\n",
    "    SokobanNode,\n",
    "    Solver,\n",
    "    BFSQueue,\n",
    "    PriorityQueue,\n",
    ")\n",
    "from src.heuristics import (\n",
    "    f_priority_length,\n",
    "    f_priority_l1_naive,\n",
    "    f_priority_l1_symmetric_naive,\n",
    "    f_priority_l1_matching,\n",
    "    f_priority_dijkstra,\n",
    "    f_priority_dijkstra_stuck_basic,\n",
    "    f_priority_dlsb,\n",
    "    get_f_priority_sbp,\n",
    ")\n",
    "from src.data_structures import Path\n",
    "from boards.utilities import load_json_to_dict"
   ]
  },
  {
   "cell_type": "code",
   "execution_count": 35,
   "metadata": {},
   "outputs": [],
   "source": [
    "A = np.array([[1, 2], [3, 4]])"
   ]
  },
  {
   "cell_type": "code",
   "execution_count": 37,
   "metadata": {},
   "outputs": [],
   "source": [
    "idx, jdx = linear_sum_assignment(A)"
   ]
  },
  {
   "cell_type": "code",
   "execution_count": 38,
   "metadata": {},
   "outputs": [
    {
     "data": {
      "text/plain": [
       "array([1, 4])"
      ]
     },
     "execution_count": 38,
     "metadata": {},
     "output_type": "execute_result"
    }
   ],
   "source": [
    "A[idx, jdx]"
   ]
  },
  {
   "cell_type": "markdown",
   "metadata": {},
   "source": [
    "## Demo"
   ]
  },
  {
   "cell_type": "code",
   "execution_count": 91,
   "metadata": {},
   "outputs": [
    {
     "name": "stdout",
     "output_type": "stream",
     "text": [
      "█ █ █ █ █ █ █ █ █ █ █ █ █\n",
      "█ █ █ █ █ █ █ █ █ █ █ █ █\n",
      "█ █ █ █ █         ● █ █ █\n",
      "█ █ █ █ █ · █ █ █   █ █ █\n",
      "█ █ █ █ █     █ █ □ █ █ █\n",
      "█ █               □   █ █\n",
      "█ █   █ █   █   █ █   █ █\n",
      "█ █   █ █   █         █ █\n",
      "█ █   █ █     ■ □ █ █ █ █\n",
      "█ █           ·   █ █ █ █\n",
      "█ █ █ █ █ █ █ █ █ █ █ █ █\n",
      "█ █ █ █ █ █ █ █ █ █ █ █ █\n"
     ]
    }
   ],
   "source": [
    "# loading a puzzle\n",
    "json_dict = load_json_to_dict('boards/board_v=1&seed=1565730199&level=5.json')\n",
    "node = SokobanNode(json_dict['airs'], json_dict['boxes'], json_dict['goals'], json_dict['player'])\n",
    "print(node)"
   ]
  },
  {
   "cell_type": "code",
   "execution_count": 92,
   "metadata": {},
   "outputs": [
    {
     "data": {
      "text/plain": [
       "200"
      ]
     },
     "execution_count": 92,
     "metadata": {},
     "output_type": "execute_result"
    }
   ],
   "source": [
    "# solving it: status code 200 means success!\n",
    "f_priority_sbp = get_f_priority_sbp(node)\n",
    "solver = Solver(PriorityQueue(f_priority_sbp), node)\n",
    "solver.solve()"
   ]
  },
  {
   "cell_type": "code",
   "execution_count": 93,
   "metadata": {
    "scrolled": true
   },
   "outputs": [
    {
     "name": "stdout",
     "output_type": "stream",
     "text": [
      "█ █ █ █ █ █ █ █ █ █ █ █ █\n",
      "█ █ █ █ █ █ █ █ █ █ █ █ █\n",
      "█ █ █ █ █         ● █ █ █\n",
      "█ █ █ █ █ · █ █ █   █ █ █\n",
      "█ █ █ █ █     █ █ □ █ █ █\n",
      "█ █               □   █ █\n",
      "█ █   █ █   █   █ █   █ █\n",
      "█ █   █ █   █         █ █\n",
      "█ █   █ █     ■ □ █ █ █ █\n",
      "█ █           ·   █ █ █ █\n",
      "█ █ █ █ █ █ █ █ █ █ █ █ █\n",
      "█ █ █ █ █ █ █ █ █ █ █ █ █\n",
      "\n",
      "█ █ █ █ █ █ █ █ █ █ █ █ █\n",
      "█ █ █ █ █ █ █ █ █ █ █ █ █\n",
      "█ █ █ █ █         · █ █ █\n",
      "█ █ █ █ █ · █ █ █   █ █ █\n",
      "█ █ █ █ █     █ █ □ █ █ █\n",
      "█ █             □ ○   █ █\n",
      "█ █   █ █   █   █ █   █ █\n",
      "█ █   █ █   █         █ █\n",
      "█ █   █ █     ■ □ █ █ █ █\n",
      "█ █           ·   █ █ █ █\n",
      "█ █ █ █ █ █ █ █ █ █ █ █ █\n",
      "█ █ █ █ █ █ █ █ █ █ █ █ █\n",
      "\n",
      "█ █ █ █ █ █ █ █ █ █ █ █ █\n",
      "█ █ █ █ █ █ █ █ █ █ █ █ █\n",
      "█ █ █ █ █         · █ █ █\n",
      "█ █ █ █ █ · █ █ █   █ █ █\n",
      "█ █ █ █ █     █ █ □ █ █ █\n",
      "█ █           □ ○     █ █\n",
      "█ █   █ █   █   █ █   █ █\n",
      "█ █   █ █   █         █ █\n",
      "█ █   █ █     ■ □ █ █ █ █\n",
      "█ █           ·   █ █ █ █\n",
      "█ █ █ █ █ █ █ █ █ █ █ █ █\n",
      "█ █ █ █ █ █ █ █ █ █ █ █ █\n",
      "\n",
      "█ █ █ █ █ █ █ █ █ █ █ █ █\n",
      "█ █ █ █ █ █ █ █ █ █ █ █ █\n",
      "█ █ █ █ █         · █ █ █\n",
      "█ █ █ █ █ · █ █ █   █ █ █\n",
      "█ █ █ █ █     █ █ □ █ █ █\n",
      "█ █         □ ○       █ █\n",
      "█ █   █ █   █   █ █   █ █\n",
      "█ █   █ █   █         █ █\n",
      "█ █   █ █     ■ □ █ █ █ █\n",
      "█ █           ·   █ █ █ █\n",
      "█ █ █ █ █ █ █ █ █ █ █ █ █\n",
      "█ █ █ █ █ █ █ █ █ █ █ █ █\n",
      "\n",
      "█ █ █ █ █ █ █ █ █ █ █ █ █\n",
      "█ █ █ █ █ █ █ █ █ █ █ █ █\n",
      "█ █ █ █ █         · █ █ █\n",
      "█ █ █ █ █ · █ █ █   █ █ █\n",
      "█ █ █ █ █     █ █ □ █ █ █\n",
      "█ █       □ ○         █ █\n",
      "█ █   █ █   █   █ █   █ █\n",
      "█ █   █ █   █         █ █\n",
      "█ █   █ █     ■ □ █ █ █ █\n",
      "█ █           ·   █ █ █ █\n",
      "█ █ █ █ █ █ █ █ █ █ █ █ █\n",
      "█ █ █ █ █ █ █ █ █ █ █ █ █\n",
      "\n",
      "█ █ █ █ █ █ █ █ █ █ █ █ █\n",
      "█ █ █ █ █ █ █ █ █ █ █ █ █\n",
      "█ █ █ █ █         · █ █ █\n",
      "█ █ █ █ █ · █ █ █ □ █ █ █\n",
      "█ █ █ █ █     █ █ ○ █ █ █\n",
      "█ █       □           █ █\n",
      "█ █   █ █   █   █ █   █ █\n",
      "█ █   █ █   █         █ █\n",
      "█ █   █ █     ■ □ █ █ █ █\n",
      "█ █           ·   █ █ █ █\n",
      "█ █ █ █ █ █ █ █ █ █ █ █ █\n",
      "█ █ █ █ █ █ █ █ █ █ █ █ █\n",
      "\n",
      "█ █ █ █ █ █ █ █ █ █ █ █ █\n",
      "█ █ █ █ █ █ █ █ █ █ █ █ █\n",
      "█ █ █ █ █         ■ █ █ █\n",
      "█ █ █ █ █ · █ █ █ ○ █ █ █\n",
      "█ █ █ █ █     █ █   █ █ █\n",
      "█ █       □           █ █\n",
      "█ █   █ █   █   █ █   █ █\n",
      "█ █   █ █   █         █ █\n",
      "█ █   █ █     ■ □ █ █ █ █\n",
      "█ █           ·   █ █ █ █\n",
      "█ █ █ █ █ █ █ █ █ █ █ █ █\n",
      "█ █ █ █ █ █ █ █ █ █ █ █ █\n",
      "\n",
      "█ █ █ █ █ █ █ █ █ █ █ █ █\n",
      "█ █ █ █ █ █ █ █ █ █ █ █ █\n",
      "█ █ █ █ █         ■ █ █ █\n",
      "█ █ █ █ █ · █ █ █   █ █ █\n",
      "█ █ █ █ █     █ █   █ █ █\n",
      "█ █     □ ○           █ █\n",
      "█ █   █ █   █   █ █   █ █\n",
      "█ █   █ █   █         █ █\n",
      "█ █   █ █     ■ □ █ █ █ █\n",
      "█ █           ·   █ █ █ █\n",
      "█ █ █ █ █ █ █ █ █ █ █ █ █\n",
      "█ █ █ █ █ █ █ █ █ █ █ █ █\n",
      "\n",
      "█ █ █ █ █ █ █ █ █ █ █ █ █\n",
      "█ █ █ █ █ █ █ █ █ █ █ █ █\n",
      "█ █ █ █ █         ■ █ █ █\n",
      "█ █ █ █ █ · █ █ █   █ █ █\n",
      "█ █ █ █ █     █ █   █ █ █\n",
      "█ █     □             █ █\n",
      "█ █   █ █   █   █ █   █ █\n",
      "█ █   █ █   █   □     █ █\n",
      "█ █   █ █     ■ ○ █ █ █ █\n",
      "█ █           ·   █ █ █ █\n",
      "█ █ █ █ █ █ █ █ █ █ █ █ █\n",
      "█ █ █ █ █ █ █ █ █ █ █ █ █\n",
      "\n",
      "█ █ █ █ █ █ █ █ █ █ █ █ █\n",
      "█ █ █ █ █ █ █ █ █ █ █ █ █\n",
      "█ █ █ █ █         ■ █ █ █\n",
      "█ █ █ █ █ · █ █ █   █ █ █\n",
      "█ █ █ █ █     █ █   █ █ █\n",
      "█ █     □             █ █\n",
      "█ █   █ █   █   █ █   █ █\n",
      "█ █   █ █   █ □ ○     █ █\n",
      "█ █   █ █     ■   █ █ █ █\n",
      "█ █           ·   █ █ █ █\n",
      "█ █ █ █ █ █ █ █ █ █ █ █ █\n",
      "█ █ █ █ █ █ █ █ █ █ █ █ █\n",
      "\n",
      "█ █ █ █ █ █ █ █ █ █ █ █ █\n",
      "█ █ █ █ █ █ █ █ █ █ █ █ █\n",
      "█ █ █ █ █         ■ █ █ █\n",
      "█ █ █ █ █ · █ █ █   █ █ █\n",
      "█ █ █ █ █     █ █   █ █ █\n",
      "█ █     ○ □           █ █\n",
      "█ █   █ █   █   █ █   █ █\n",
      "█ █   █ █   █ □       █ █\n",
      "█ █   █ █     ■   █ █ █ █\n",
      "█ █           ·   █ █ █ █\n",
      "█ █ █ █ █ █ █ █ █ █ █ █ █\n",
      "█ █ █ █ █ █ █ █ █ █ █ █ █\n",
      "\n",
      "█ █ █ █ █ █ █ █ █ █ █ █ █\n",
      "█ █ █ █ █ █ █ █ █ █ █ █ █\n",
      "█ █ █ █ █         ■ █ █ █\n",
      "█ █ █ █ █ · █ █ █   █ █ █\n",
      "█ █ █ █ █ □   █ █   █ █ █\n",
      "█ █       ○           █ █\n",
      "█ █   █ █   █   █ █   █ █\n",
      "█ █   █ █   █ □       █ █\n",
      "█ █   █ █     ■   █ █ █ █\n",
      "█ █           ·   █ █ █ █\n",
      "█ █ █ █ █ █ █ █ █ █ █ █ █\n",
      "█ █ █ █ █ █ █ █ █ █ █ █ █\n",
      "\n",
      "█ █ █ █ █ █ █ █ █ █ █ █ █\n",
      "█ █ █ █ █ █ █ █ █ █ █ █ █\n",
      "█ █ █ █ █         ■ █ █ █\n",
      "█ █ █ █ █ ■ █ █ █   █ █ █\n",
      "█ █ █ █ █ ○   █ █   █ █ █\n",
      "█ █                   █ █\n",
      "█ █   █ █   █   █ █   █ █\n",
      "█ █   █ █   █ □       █ █\n",
      "█ █   █ █     ■   █ █ █ █\n",
      "█ █           ·   █ █ █ █\n",
      "█ █ █ █ █ █ █ █ █ █ █ █ █\n",
      "█ █ █ █ █ █ █ █ █ █ █ █ █\n",
      "\n",
      "█ █ █ █ █ █ █ █ █ █ █ █ █\n",
      "█ █ █ █ █ █ █ █ █ █ █ █ █\n",
      "█ █ █ █ █         ■ █ █ █\n",
      "█ █ █ █ █ ■ █ █ █   █ █ █\n",
      "█ █ █ █ █     █ █   █ █ █\n",
      "█ █                   █ █\n",
      "█ █   █ █   █   █ █   █ █\n",
      "█ █   █ █   █ □       █ █\n",
      "█ █   █ █   □ ●   █ █ █ █\n",
      "█ █           ·   █ █ █ █\n",
      "█ █ █ █ █ █ █ █ █ █ █ █ █\n",
      "█ █ █ █ █ █ █ █ █ █ █ █ █\n",
      "\n",
      "█ █ █ █ █ █ █ █ █ █ █ █ █\n",
      "█ █ █ █ █ █ █ █ █ █ █ █ █\n",
      "█ █ █ █ █         ■ █ █ █\n",
      "█ █ █ █ █ ■ █ █ █   █ █ █\n",
      "█ █ █ █ █     █ █   █ █ █\n",
      "█ █                   █ █\n",
      "█ █   █ █   █   █ █   █ █\n",
      "█ █   █ █   █ ○       █ █\n",
      "█ █   █ █   □ ■   █ █ █ █\n",
      "█ █           ·   █ █ █ █\n",
      "█ █ █ █ █ █ █ █ █ █ █ █ █\n",
      "█ █ █ █ █ █ █ █ █ █ █ █ █\n",
      "\n",
      "█ █ █ █ █ █ █ █ █ █ █ █ █\n",
      "█ █ █ █ █ █ █ █ █ █ █ █ █\n",
      "█ █ █ █ █         ■ █ █ █\n",
      "█ █ █ █ █ ■ █ █ █   █ █ █\n",
      "█ █ █ █ █     █ █   █ █ █\n",
      "█ █                   █ █\n",
      "█ █   █ █   █   █ █   █ █\n",
      "█ █   █ █   █         █ █\n",
      "█ █   █ █   □ ●   █ █ █ █\n",
      "█ █           ■   █ █ █ █\n",
      "█ █ █ █ █ █ █ █ █ █ █ █ █\n",
      "█ █ █ █ █ █ █ █ █ █ █ █ █\n",
      "\n",
      "█ █ █ █ █ █ █ █ █ █ █ █ █\n",
      "█ █ █ █ █ █ █ █ █ █ █ █ █\n",
      "█ █ █ █ █         ■ █ █ █\n",
      "█ █ █ █ █ ■ █ █ █   █ █ █\n",
      "█ █ █ █ █     █ █   █ █ █\n",
      "█ █                   █ █\n",
      "█ █   █ █   █   █ █   █ █\n",
      "█ █   █ █   █         █ █\n",
      "█ █   █ █   ○ ■   █ █ █ █\n",
      "█ █           ■   █ █ █ █\n",
      "█ █ █ █ █ █ █ █ █ █ █ █ █\n",
      "█ █ █ █ █ █ █ █ █ █ █ █ █\n"
     ]
    }
   ],
   "source": [
    "# here's the solution\n",
    "print(solver.solution)"
   ]
  },
  {
   "cell_type": "code",
   "execution_count": 94,
   "metadata": {},
   "outputs": [
    {
     "data": {
      "text/plain": [
       "np.float64(12.0)"
      ]
     },
     "execution_count": 94,
     "metadata": {},
     "output_type": "execute_result"
    }
   ],
   "source": [
    "path = Path(node, [], node)\n",
    "f_priority_sbp(path)"
   ]
  },
  {
   "cell_type": "markdown",
   "metadata": {},
   "source": [
    "## Scratchwork"
   ]
  },
  {
   "cell_type": "code",
   "execution_count": 81,
   "metadata": {},
   "outputs": [],
   "source": [
    "from src.Tests.test_sokoban_solver import node_1_1565730199_5\n",
    "node = node_1_1565730199_5"
   ]
  },
  {
   "cell_type": "code",
   "execution_count": 82,
   "metadata": {},
   "outputs": [
    {
     "data": {
      "text/plain": [
       "200"
      ]
     },
     "execution_count": 82,
     "metadata": {},
     "output_type": "execute_result"
    }
   ],
   "source": [
    "solver1 = Solver(PriorityQueue(f_priority_dlsb), node)\n",
    "solver1.solve()"
   ]
  },
  {
   "cell_type": "code",
   "execution_count": 83,
   "metadata": {},
   "outputs": [
    {
     "data": {
      "text/plain": [
       "200"
      ]
     },
     "execution_count": 83,
     "metadata": {},
     "output_type": "execute_result"
    }
   ],
   "source": [
    "solver2 = Solver(PriorityQueue(get_f_priority_sbp(node)), node)\n",
    "solver2.solve()"
   ]
  },
  {
   "cell_type": "code",
   "execution_count": 84,
   "metadata": {},
   "outputs": [
    {
     "data": {
      "text/plain": [
       "59"
      ]
     },
     "execution_count": 84,
     "metadata": {},
     "output_type": "execute_result"
    }
   ],
   "source": [
    "solver1.n_iters_overall"
   ]
  },
  {
   "cell_type": "code",
   "execution_count": 85,
   "metadata": {},
   "outputs": [
    {
     "data": {
      "text/plain": [
       "56"
      ]
     },
     "execution_count": 85,
     "metadata": {},
     "output_type": "execute_result"
    }
   ],
   "source": [
    "solver2.n_iters_overall"
   ]
  },
  {
   "cell_type": "code",
   "execution_count": null,
   "metadata": {},
   "outputs": [],
   "source": []
  },
  {
   "cell_type": "code",
   "execution_count": 86,
   "metadata": {},
   "outputs": [],
   "source": [
    "from src.Tests.test_sokoban_solver import node_1_1565730199_11\n",
    "node = node_1_1565730199_11"
   ]
  },
  {
   "cell_type": "code",
   "execution_count": 87,
   "metadata": {},
   "outputs": [
    {
     "data": {
      "text/plain": [
       "301"
      ]
     },
     "execution_count": 87,
     "metadata": {},
     "output_type": "execute_result"
    }
   ],
   "source": [
    "# still can't solve this!\n",
    "solver = Solver(PriorityQueue(get_f_priority_sbp(node)), node)\n",
    "solver.solve(max_seconds=10)"
   ]
  },
  {
   "cell_type": "code",
   "execution_count": 90,
   "metadata": {
    "scrolled": true
   },
   "outputs": [
    {
     "name": "stdout",
     "output_type": "stream",
     "text": [
      "█ █ █ █ █ █ █ █ █ █ █ █\n",
      "█ █ █ █ █ █ █ █ █ █ █ █\n",
      "█ █ █ █ █   █ █ █ █ █ █\n",
      "█ █ █   ·         █ █ █\n",
      "█ █ █   █   □ · □   █ █\n",
      "█ █ · □ □   ■ ·     █ █\n",
      "█ █     □   █ █ █ █ █ █\n",
      "█ █   █ █   █ █ █ █ █ █\n",
      "█ █ · ○     █ █ █ █ █ █\n",
      "█ █ █ █ █ █ █ █ █ █ █ █\n",
      "█ █ █ █ █ █ █ █ █ █ █ █\n",
      "\n",
      "█ █ █ █ █ █ █ █ █ █ █ █\n",
      "█ █ █ █ █ █ █ █ █ █ █ █\n",
      "█ █ █ █ █   █ █ █ █ █ █\n",
      "█ █ █   ·         █ █ █\n",
      "█ █ █   █   ○ ■ □   █ █\n",
      "█ █ · □ □   ■ ·     █ █\n",
      "█ █     □   █ █ █ █ █ █\n",
      "█ █   █ █   █ █ █ █ █ █\n",
      "█ █ ·       █ █ █ █ █ █\n",
      "█ █ █ █ █ █ █ █ █ █ █ █\n",
      "█ █ █ █ █ █ █ █ █ █ █ █\n",
      "\n",
      "█ █ █ █ █ █ █ █ █ █ █ █\n",
      "█ █ █ █ █ █ █ █ █ █ █ █\n",
      "█ █ █ █ █   █ █ █ █ █ █\n",
      "█ █ █   ·         █ █ █\n",
      "█ █ █   █     ■ □   █ █\n",
      "█ █ · □ □   ■ ·     █ █\n",
      "█ █   □ ○   █ █ █ █ █ █\n",
      "█ █   █ █   █ █ █ █ █ █\n",
      "█ █ ·       █ █ █ █ █ █\n",
      "█ █ █ █ █ █ █ █ █ █ █ █\n",
      "█ █ █ █ █ █ █ █ █ █ █ █\n",
      "\n",
      "█ █ █ █ █ █ █ █ █ █ █ █\n",
      "█ █ █ █ █ █ █ █ █ █ █ █\n",
      "█ █ █ █ █   █ █ █ █ █ █\n",
      "█ █ █   ·         █ █ █\n",
      "█ █ █   █     ■ □   █ █\n",
      "█ █ · □ □   ■ ·     █ █\n",
      "█ █ □ ○     █ █ █ █ █ █\n",
      "█ █   █ █   █ █ █ █ █ █\n",
      "█ █ ·       █ █ █ █ █ █\n",
      "█ █ █ █ █ █ █ █ █ █ █ █\n",
      "█ █ █ █ █ █ █ █ █ █ █ █\n",
      "\n",
      "█ █ █ █ █ █ █ █ █ █ █ █\n",
      "█ █ █ █ █ █ █ █ █ █ █ █\n",
      "█ █ █ █ █   █ █ █ █ █ █\n",
      "█ █ █   ·         █ █ █\n",
      "█ █ █   █     ■ ○   █ █\n",
      "█ █ · □ □   ■ · □   █ █\n",
      "█ █ □       █ █ █ █ █ █\n",
      "█ █   █ █   █ █ █ █ █ █\n",
      "█ █ ·       █ █ █ █ █ █\n",
      "█ █ █ █ █ █ █ █ █ █ █ █\n",
      "█ █ █ █ █ █ █ █ █ █ █ █\n",
      "\n",
      "█ █ █ █ █ █ █ █ █ █ █ █\n",
      "█ █ █ █ █ █ █ █ █ █ █ █\n",
      "█ █ █ █ █   █ █ █ █ █ █\n",
      "█ █ █   ·         █ █ █\n",
      "█ █ █ □ █     ■     █ █\n",
      "█ █ · ○ □   ■ · □   █ █\n",
      "█ █ □       █ █ █ █ █ █\n",
      "█ █   █ █   █ █ █ █ █ █\n",
      "█ █ ·       █ █ █ █ █ █\n",
      "█ █ █ █ █ █ █ █ █ █ █ █\n",
      "█ █ █ █ █ █ █ █ █ █ █ █\n",
      "\n",
      "█ █ █ █ █ █ █ █ █ █ █ █\n",
      "█ █ █ █ █ █ █ █ █ █ █ █\n",
      "█ █ █ █ █   █ █ █ █ █ █\n",
      "█ █ █   ·         █ █ █\n",
      "█ █ █ □ █     ■     █ █\n",
      "█ █ ·   □   ■ · □   █ █\n",
      "█ █ ○       █ █ █ █ █ █\n",
      "█ █ □ █ █   █ █ █ █ █ █\n",
      "█ █ ·       █ █ █ █ █ █\n",
      "█ █ █ █ █ █ █ █ █ █ █ █\n",
      "█ █ █ █ █ █ █ █ █ █ █ █\n",
      "\n",
      "█ █ █ █ █ █ █ █ █ █ █ █\n",
      "█ █ █ █ █ █ █ █ █ █ █ █\n",
      "█ █ █ █ █   █ █ █ █ █ █\n",
      "█ █ █   ·         █ █ █\n",
      "█ █ █ ○ █     ■     █ █\n",
      "█ █ · □ □   ■ · □   █ █\n",
      "█ █         █ █ █ █ █ █\n",
      "█ █ □ █ █   █ █ █ █ █ █\n",
      "█ █ ·       █ █ █ █ █ █\n",
      "█ █ █ █ █ █ █ █ █ █ █ █\n",
      "█ █ █ █ █ █ █ █ █ █ █ █\n",
      "\n",
      "█ █ █ █ █ █ █ █ █ █ █ █\n",
      "█ █ █ █ █ █ █ █ █ █ █ █\n",
      "█ █ █ █ █   █ █ █ █ █ █\n",
      "█ █ █   ·         █ █ █\n",
      "█ █ █   █     ■     █ █\n",
      "█ █ · ○ □   ■ · □   █ █\n",
      "█ █   □     █ █ █ █ █ █\n",
      "█ █ □ █ █   █ █ █ █ █ █\n",
      "█ █ ·       █ █ █ █ █ █\n",
      "█ █ █ █ █ █ █ █ █ █ █ █\n",
      "█ █ █ █ █ █ █ █ █ █ █ █\n",
      "\n",
      "█ █ █ █ █ █ █ █ █ █ █ █\n",
      "█ █ █ █ █ █ █ █ █ █ █ █\n",
      "█ █ █ █ █   █ █ █ █ █ █\n",
      "█ █ █   ·         █ █ █\n",
      "█ █ █   █     ■     █ █\n",
      "█ █ ·   ○ □ ■ · □   █ █\n",
      "█ █   □     █ █ █ █ █ █\n",
      "█ █ □ █ █   █ █ █ █ █ █\n",
      "█ █ ·       █ █ █ █ █ █\n",
      "█ █ █ █ █ █ █ █ █ █ █ █\n",
      "█ █ █ █ █ █ █ █ █ █ █ █\n",
      "\n",
      "█ █ █ █ █ █ █ █ █ █ █ █\n",
      "█ █ █ █ █ █ █ █ █ █ █ █\n",
      "█ █ █ █ █   █ █ █ █ █ █\n",
      "█ █ █   ·         █ █ █\n",
      "█ █ █   █     ■     █ █\n",
      "█ █ ·     □ ■ · □   █ █\n",
      "█ █ □ ○     █ █ █ █ █ █\n",
      "█ █ □ █ █   █ █ █ █ █ █\n",
      "█ █ ·       █ █ █ █ █ █\n",
      "█ █ █ █ █ █ █ █ █ █ █ █\n",
      "█ █ █ █ █ █ █ █ █ █ █ █\n",
      "\n",
      "█ █ █ █ █ █ █ █ █ █ █ █\n",
      "█ █ █ █ █ █ █ █ █ █ █ █\n",
      "█ █ █ █ █   █ █ █ █ █ █\n",
      "█ █ █   ·         █ █ █\n",
      "█ █ █   █ □   ■     █ █\n",
      "█ █ ·     ○ ■ · □   █ █\n",
      "█ █ □       █ █ █ █ █ █\n",
      "█ █ □ █ █   █ █ █ █ █ █\n",
      "█ █ ·       █ █ █ █ █ █\n",
      "█ █ █ █ █ █ █ █ █ █ █ █\n",
      "█ █ █ █ █ █ █ █ █ █ █ █\n",
      "\n",
      "█ █ █ █ █ █ █ █ █ █ █ █\n",
      "█ █ █ █ █ █ █ █ █ █ █ █\n",
      "█ █ █ █ █   █ █ █ █ █ █\n",
      "█ █ █   · □       █ █ █\n",
      "█ █ █   █ ○   ■     █ █\n",
      "█ █ ·       ■ · □   █ █\n",
      "█ █ □       █ █ █ █ █ █\n",
      "█ █ □ █ █   █ █ █ █ █ █\n",
      "█ █ ·       █ █ █ █ █ █\n",
      "█ █ █ █ █ █ █ █ █ █ █ █\n",
      "█ █ █ █ █ █ █ █ █ █ █ █\n",
      "\n",
      "█ █ █ █ █ █ █ █ █ █ █ █\n",
      "█ █ █ █ █ █ █ █ █ █ █ █\n",
      "█ █ █ █ █   █ █ █ █ █ █\n",
      "█ █ █   ■ ○       █ █ █\n",
      "█ █ █   █     ■     █ █\n",
      "█ █ ·       ■ · □   █ █\n",
      "█ █ □       █ █ █ █ █ █\n",
      "█ █ □ █ █   █ █ █ █ █ █\n",
      "█ █ ·       █ █ █ █ █ █\n",
      "█ █ █ █ █ █ █ █ █ █ █ █\n",
      "█ █ █ █ █ █ █ █ █ █ █ █\n",
      "\n",
      "█ █ █ █ █ █ █ █ █ █ █ █\n",
      "█ █ █ █ █ █ █ █ █ █ █ █\n",
      "█ █ █ █ █   █ █ █ █ █ █\n",
      "█ █ █   ■         █ █ █\n",
      "█ █ █   █   □ ●     █ █\n",
      "█ █ ·       ■ · □   █ █\n",
      "█ █ □       █ █ █ █ █ █\n",
      "█ █ □ █ █   █ █ █ █ █ █\n",
      "█ █ ·       █ █ █ █ █ █\n",
      "█ █ █ █ █ █ █ █ █ █ █ █\n",
      "█ █ █ █ █ █ █ █ █ █ █ █\n",
      "\n",
      "█ █ █ █ █ █ █ █ █ █ █ █\n",
      "█ █ █ █ █ █ █ █ █ █ █ █\n",
      "█ █ █ █ █   █ █ █ █ █ █\n",
      "█ █ █   ■         █ █ █\n",
      "█ █ █   █   □ ·     █ █\n",
      "█ █ ·     □ ● · □   █ █\n",
      "█ █ □       █ █ █ █ █ █\n",
      "█ █ □ █ █   █ █ █ █ █ █\n",
      "█ █ ·       █ █ █ █ █ █\n",
      "█ █ █ █ █ █ █ █ █ █ █ █\n",
      "█ █ █ █ █ █ █ █ █ █ █ █\n",
      "\n",
      "█ █ █ █ █ █ █ █ █ █ █ █\n",
      "█ █ █ █ █ █ █ █ █ █ █ █\n",
      "█ █ █ █ █   █ █ █ █ █ █\n",
      "█ █ █   ■         █ █ █\n",
      "█ █ █   █   □ ·     █ █\n",
      "█ █ ·     □ · ■ ○   █ █\n",
      "█ █ □       █ █ █ █ █ █\n",
      "█ █ □ █ █   █ █ █ █ █ █\n",
      "█ █ ·       █ █ █ █ █ █\n",
      "█ █ █ █ █ █ █ █ █ █ █ █\n",
      "█ █ █ █ █ █ █ █ █ █ █ █\n",
      "\n",
      "█ █ █ █ █ █ █ █ █ █ █ █\n",
      "█ █ █ █ █ █ █ █ █ █ █ █\n",
      "█ █ █ █ █   █ █ █ █ █ █\n",
      "█ █ █   ■         █ █ █\n",
      "█ █ █   █   □ ·     █ █\n",
      "█ █ ·     ○ · ■     █ █\n",
      "█ █ □     □ █ █ █ █ █ █\n",
      "█ █ □ █ █   █ █ █ █ █ █\n",
      "█ █ ·       █ █ █ █ █ █\n",
      "█ █ █ █ █ █ █ █ █ █ █ █\n",
      "█ █ █ █ █ █ █ █ █ █ █ █\n",
      "\n",
      "█ █ █ █ █ █ █ █ █ █ █ █\n",
      "█ █ █ █ █ █ █ █ █ █ █ █\n",
      "█ █ █ █ █   █ █ █ █ █ █\n",
      "█ █ █   ● □       █ █ █\n",
      "█ █ █   █   □ ·     █ █\n",
      "█ █ ·       · ■     █ █\n",
      "█ █ □     □ █ █ █ █ █ █\n",
      "█ █ □ █ █   █ █ █ █ █ █\n",
      "█ █ ·       █ █ █ █ █ █\n",
      "█ █ █ █ █ █ █ █ █ █ █ █\n",
      "█ █ █ █ █ █ █ █ █ █ █ █\n"
     ]
    }
   ],
   "source": [
    "# I think I need a additional stuckness heuristics\n",
    "# definitely for weakly stuck boxes\n",
    "# but ideally also something for tunnel areas...idk how\n",
    "print(solver.queue[0])"
   ]
  },
  {
   "cell_type": "markdown",
   "metadata": {},
   "source": [
    "## To do"
   ]
  },
  {
   "cell_type": "markdown",
   "metadata": {},
   "source": [
    "**General**\n",
    "- Better solution printing (Path objects)\n",
    "    - Printing moves\n",
    "    - Animating? .visualize() function?\n",
    "\n",
    "**Generator**\n",
    "- Figure out how the papers are doing things\n",
    "- Implement something\n",
    "\n",
    "**Solver**\n",
    "- Implement more heuristics\n",
    "    - Box pushing heuristic:\n",
    "        - Upgrade of Dijkstra\n",
    "        - Solving subpuzzles with just one box\n",
    "        - Chained heuristics: solve subpuzzles with Dijkstra\n",
    "        - **Also, this might be *really* slow: we have to consider each box/goal matchup to then do the linprog to find the smallest number of pushes. So that's n^2 subpuzzles to solve! It's probably best to just come up with pruning conditions based on how a box can be pushed (ex. if it's stuck in a dead-end hallway/component).**\n",
    "        - Stuck box handling\n",
    "            - Start with a stuck boxes pruning heuristic\n",
    "            - Consider stuck-on-goal boxes to be equivalent to walls\n",
    "            - Implement things reasonably flexibly: so if the notion of stuck (ex. basic vs \"conditionally stuck but actually stuck\") changes, it can still work\n",
    "        - Include timeouts\n",
    "            - How to handle these?\n",
    "            - Fall back to Dijkstra?\n",
    "            - Tuple priority with the first entry indicating timeout?\n",
    "            - Option to repeat with longer timeouts on subsequent runs?\n",
    "            - Tagging queue entries with solver objects so I can easily pick up heuristic evals once I exhaust more clearly viable paths?\n",
    "            - **A general framework that manages priority calculation priorities (for multiple possible heuristics)? Maybe a secondary queue for that?**\n",
    "    - Brainstorm more ideas\n",
    "        - I should do more puzzles by hand to figure out next gen heuristics\n",
    "- Ponder misc ideas\n",
    "    - What would it look like to work neural nets into the problem? As the sole heuristic? For blending heuristics? For a CNN? What's the right learning framework? Reinforcement?\n",
    "    - Splitting into sub-puzzles?"
   ]
  },
  {
   "cell_type": "code",
   "execution_count": null,
   "metadata": {},
   "outputs": [],
   "source": []
  }
 ],
 "metadata": {
  "kernelspec": {
   "display_name": "Python 3 (ipykernel)",
   "language": "python",
   "name": "python3"
  },
  "language_info": {
   "codemirror_mode": {
    "name": "ipython",
    "version": 3
   },
   "file_extension": ".py",
   "mimetype": "text/x-python",
   "name": "python",
   "nbconvert_exporter": "python",
   "pygments_lexer": "ipython3",
   "version": "3.12.6"
  }
 },
 "nbformat": 4,
 "nbformat_minor": 4
}
